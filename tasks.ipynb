{
 "cells": [
  {
   "cell_type": "code",
   "execution_count": 1,
   "metadata": {},
   "outputs": [],
   "source": [
    "import matplotlib.pyplot as plt\n",
    "import pandas as pd\n",
    "import scipy.stats as st"
   ]
  },
  {
   "cell_type": "code",
   "execution_count": 2,
   "metadata": {},
   "outputs": [],
   "source": [
    "data = pd.read_csv(\"popular-indicators-philippines.csv\")"
   ]
  },
  {
   "cell_type": "code",
   "execution_count": 3,
   "metadata": {},
   "outputs": [
    {
     "data": {
      "text/html": [
       "<div>\n",
       "<style scoped>\n",
       "    .dataframe tbody tr th:only-of-type {\n",
       "        vertical-align: middle;\n",
       "    }\n",
       "\n",
       "    .dataframe tbody tr th {\n",
       "        vertical-align: top;\n",
       "    }\n",
       "\n",
       "    .dataframe thead th {\n",
       "        text-align: right;\n",
       "    }\n",
       "</style>\n",
       "<table border=\"1\" class=\"dataframe\">\n",
       "  <thead>\n",
       "    <tr style=\"text-align: right;\">\n",
       "      <th></th>\n",
       "      <th>Years</th>\n",
       "      <th>Population, total</th>\n",
       "      <th>Population growth (annual %)</th>\n",
       "      <th>Surface area (sq. km)</th>\n",
       "      <th>Poverty headcount ratio at national poverty lines (% of population)</th>\n",
       "      <th>GNI, Atlas method (current US$)</th>\n",
       "      <th>GNI per capita, Atlas method (current US$)</th>\n",
       "      <th>GNI, PPP (current international $)</th>\n",
       "      <th>GNI per capita, PPP (current international $)</th>\n",
       "      <th>Income share held by lowest 20%</th>\n",
       "      <th>...</th>\n",
       "      <th>Net barter terms of trade index (2000 = 100)</th>\n",
       "      <th>External debt stocks, total (DOD, current US$)</th>\n",
       "      <th>Total debt service (% of GNI)</th>\n",
       "      <th>Net migration</th>\n",
       "      <th>Personal remittances, paid (current US$)</th>\n",
       "      <th>Foreign direct investment, net inflows (BoP, current US$)</th>\n",
       "      <th>Net ODA received per capita (current US$)</th>\n",
       "      <th>GDP per capita (current US$)</th>\n",
       "      <th>Foreign direct investment, net (BoP, current US$)</th>\n",
       "      <th>Inflation, consumer prices (annual %)</th>\n",
       "    </tr>\n",
       "  </thead>\n",
       "  <tbody>\n",
       "    <tr>\n",
       "      <th>0</th>\n",
       "      <td>1990</td>\n",
       "      <td>61895169.0</td>\n",
       "      <td>2.543417</td>\n",
       "      <td>300000.0</td>\n",
       "      <td>NaN</td>\n",
       "      <td>4.485608e+10</td>\n",
       "      <td>720.0</td>\n",
       "      <td>1.624582e+11</td>\n",
       "      <td>2620.0</td>\n",
       "      <td>NaN</td>\n",
       "      <td>...</td>\n",
       "      <td>87.368421</td>\n",
       "      <td>3.057985e+10</td>\n",
       "      <td>8.239722</td>\n",
       "      <td>NaN</td>\n",
       "      <td>5000000.0</td>\n",
       "      <td>5.300000e+08</td>\n",
       "      <td>18.468161</td>\n",
       "      <td>715.913608</td>\n",
       "      <td>-5.300000e+08</td>\n",
       "      <td>12.177352</td>\n",
       "    </tr>\n",
       "    <tr>\n",
       "      <th>1</th>\n",
       "      <td>1991</td>\n",
       "      <td>63454785.0</td>\n",
       "      <td>2.488547</td>\n",
       "      <td>300000.0</td>\n",
       "      <td>NaN</td>\n",
       "      <td>4.601951e+10</td>\n",
       "      <td>730.0</td>\n",
       "      <td>1.688494e+11</td>\n",
       "      <td>2660.0</td>\n",
       "      <td>NaN</td>\n",
       "      <td>...</td>\n",
       "      <td>93.406593</td>\n",
       "      <td>3.249334e+10</td>\n",
       "      <td>7.516631</td>\n",
       "      <td>NaN</td>\n",
       "      <td>9000000.0</td>\n",
       "      <td>5.440000e+08</td>\n",
       "      <td>14.966877</td>\n",
       "      <td>715.746831</td>\n",
       "      <td>-5.440000e+08</td>\n",
       "      <td>19.261459</td>\n",
       "    </tr>\n",
       "    <tr>\n",
       "      <th>2</th>\n",
       "      <td>1992</td>\n",
       "      <td>65020124.0</td>\n",
       "      <td>2.436922</td>\n",
       "      <td>300000.0</td>\n",
       "      <td>NaN</td>\n",
       "      <td>5.034573e+10</td>\n",
       "      <td>770.0</td>\n",
       "      <td>1.757368e+11</td>\n",
       "      <td>2700.0</td>\n",
       "      <td>NaN</td>\n",
       "      <td>...</td>\n",
       "      <td>79.207921</td>\n",
       "      <td>3.321904e+10</td>\n",
       "      <td>8.036476</td>\n",
       "      <td>-698877.0</td>\n",
       "      <td>8000000.0</td>\n",
       "      <td>2.280000e+08</td>\n",
       "      <td>25.168361</td>\n",
       "      <td>814.768439</td>\n",
       "      <td>-2.280000e+08</td>\n",
       "      <td>8.651004</td>\n",
       "    </tr>\n",
       "    <tr>\n",
       "      <th>3</th>\n",
       "      <td>1993</td>\n",
       "      <td>66593904.0</td>\n",
       "      <td>2.391622</td>\n",
       "      <td>300000.0</td>\n",
       "      <td>NaN</td>\n",
       "      <td>5.459651e+10</td>\n",
       "      <td>820.0</td>\n",
       "      <td>1.846818e+11</td>\n",
       "      <td>2770.0</td>\n",
       "      <td>NaN</td>\n",
       "      <td>...</td>\n",
       "      <td>77.669903</td>\n",
       "      <td>3.614238e+10</td>\n",
       "      <td>8.897759</td>\n",
       "      <td>NaN</td>\n",
       "      <td>45000000.0</td>\n",
       "      <td>1.238000e+09</td>\n",
       "      <td>20.874132</td>\n",
       "      <td>816.412324</td>\n",
       "      <td>-8.640000e+08</td>\n",
       "      <td>6.716311</td>\n",
       "    </tr>\n",
       "    <tr>\n",
       "      <th>4</th>\n",
       "      <td>1994</td>\n",
       "      <td>68180846.0</td>\n",
       "      <td>2.355063</td>\n",
       "      <td>300000.0</td>\n",
       "      <td>NaN</td>\n",
       "      <td>6.293546e+10</td>\n",
       "      <td>920.0</td>\n",
       "      <td>1.989798e+11</td>\n",
       "      <td>2920.0</td>\n",
       "      <td>NaN</td>\n",
       "      <td>...</td>\n",
       "      <td>77.884615</td>\n",
       "      <td>4.025658e+10</td>\n",
       "      <td>7.045037</td>\n",
       "      <td>NaN</td>\n",
       "      <td>89000000.0</td>\n",
       "      <td>1.591000e+09</td>\n",
       "      <td>14.796238</td>\n",
       "      <td>939.918817</td>\n",
       "      <td>-1.289000e+09</td>\n",
       "      <td>10.386473</td>\n",
       "    </tr>\n",
       "  </tbody>\n",
       "</table>\n",
       "<p>5 rows × 52 columns</p>\n",
       "</div>"
      ],
      "text/plain": [
       "   Years  Population, total  Population growth (annual %)  \\\n",
       "0   1990         61895169.0                      2.543417   \n",
       "1   1991         63454785.0                      2.488547   \n",
       "2   1992         65020124.0                      2.436922   \n",
       "3   1993         66593904.0                      2.391622   \n",
       "4   1994         68180846.0                      2.355063   \n",
       "\n",
       "   Surface area (sq. km)  \\\n",
       "0               300000.0   \n",
       "1               300000.0   \n",
       "2               300000.0   \n",
       "3               300000.0   \n",
       "4               300000.0   \n",
       "\n",
       "   Poverty headcount ratio at national poverty lines (% of population)  \\\n",
       "0                                                NaN                     \n",
       "1                                                NaN                     \n",
       "2                                                NaN                     \n",
       "3                                                NaN                     \n",
       "4                                                NaN                     \n",
       "\n",
       "   GNI, Atlas method (current US$)  \\\n",
       "0                     4.485608e+10   \n",
       "1                     4.601951e+10   \n",
       "2                     5.034573e+10   \n",
       "3                     5.459651e+10   \n",
       "4                     6.293546e+10   \n",
       "\n",
       "   GNI per capita, Atlas method (current US$)  \\\n",
       "0                                       720.0   \n",
       "1                                       730.0   \n",
       "2                                       770.0   \n",
       "3                                       820.0   \n",
       "4                                       920.0   \n",
       "\n",
       "   GNI, PPP (current international $)  \\\n",
       "0                        1.624582e+11   \n",
       "1                        1.688494e+11   \n",
       "2                        1.757368e+11   \n",
       "3                        1.846818e+11   \n",
       "4                        1.989798e+11   \n",
       "\n",
       "   GNI per capita, PPP (current international $)  \\\n",
       "0                                         2620.0   \n",
       "1                                         2660.0   \n",
       "2                                         2700.0   \n",
       "3                                         2770.0   \n",
       "4                                         2920.0   \n",
       "\n",
       "   Income share held by lowest 20%  ...  \\\n",
       "0                              NaN  ...   \n",
       "1                              NaN  ...   \n",
       "2                              NaN  ...   \n",
       "3                              NaN  ...   \n",
       "4                              NaN  ...   \n",
       "\n",
       "   Net barter terms of trade index (2000 = 100)  \\\n",
       "0                                     87.368421   \n",
       "1                                     93.406593   \n",
       "2                                     79.207921   \n",
       "3                                     77.669903   \n",
       "4                                     77.884615   \n",
       "\n",
       "   External debt stocks, total (DOD, current US$)  \\\n",
       "0                                    3.057985e+10   \n",
       "1                                    3.249334e+10   \n",
       "2                                    3.321904e+10   \n",
       "3                                    3.614238e+10   \n",
       "4                                    4.025658e+10   \n",
       "\n",
       "   Total debt service (% of GNI)  Net migration  \\\n",
       "0                       8.239722            NaN   \n",
       "1                       7.516631            NaN   \n",
       "2                       8.036476      -698877.0   \n",
       "3                       8.897759            NaN   \n",
       "4                       7.045037            NaN   \n",
       "\n",
       "   Personal remittances, paid (current US$)  \\\n",
       "0                                 5000000.0   \n",
       "1                                 9000000.0   \n",
       "2                                 8000000.0   \n",
       "3                                45000000.0   \n",
       "4                                89000000.0   \n",
       "\n",
       "   Foreign direct investment, net inflows (BoP, current US$)  \\\n",
       "0                                       5.300000e+08           \n",
       "1                                       5.440000e+08           \n",
       "2                                       2.280000e+08           \n",
       "3                                       1.238000e+09           \n",
       "4                                       1.591000e+09           \n",
       "\n",
       "   Net ODA received per capita (current US$)  GDP per capita (current US$)  \\\n",
       "0                                  18.468161                    715.913608   \n",
       "1                                  14.966877                    715.746831   \n",
       "2                                  25.168361                    814.768439   \n",
       "3                                  20.874132                    816.412324   \n",
       "4                                  14.796238                    939.918817   \n",
       "\n",
       "   Foreign direct investment, net (BoP, current US$)  \\\n",
       "0                                      -5.300000e+08   \n",
       "1                                      -5.440000e+08   \n",
       "2                                      -2.280000e+08   \n",
       "3                                      -8.640000e+08   \n",
       "4                                      -1.289000e+09   \n",
       "\n",
       "   Inflation, consumer prices (annual %)  \n",
       "0                              12.177352  \n",
       "1                              19.261459  \n",
       "2                               8.651004  \n",
       "3                               6.716311  \n",
       "4                              10.386473  \n",
       "\n",
       "[5 rows x 52 columns]"
      ]
     },
     "execution_count": 3,
     "metadata": {},
     "output_type": "execute_result"
    }
   ],
   "source": [
    "data.head()"
   ]
  },
  {
   "cell_type": "code",
   "execution_count": 4,
   "metadata": {},
   "outputs": [
    {
     "data": {
      "text/html": [
       "<div>\n",
       "<style scoped>\n",
       "    .dataframe tbody tr th:only-of-type {\n",
       "        vertical-align: middle;\n",
       "    }\n",
       "\n",
       "    .dataframe tbody tr th {\n",
       "        vertical-align: top;\n",
       "    }\n",
       "\n",
       "    .dataframe thead th {\n",
       "        text-align: right;\n",
       "    }\n",
       "</style>\n",
       "<table border=\"1\" class=\"dataframe\">\n",
       "  <thead>\n",
       "    <tr style=\"text-align: right;\">\n",
       "      <th></th>\n",
       "      <th>Years</th>\n",
       "      <th>Population, total</th>\n",
       "      <th>Population growth (annual %)</th>\n",
       "      <th>Surface area (sq. km)</th>\n",
       "      <th>Poverty headcount ratio at national poverty lines (% of population)</th>\n",
       "      <th>GNI, Atlas method (current US$)</th>\n",
       "      <th>GNI per capita, Atlas method (current US$)</th>\n",
       "      <th>GNI, PPP (current international $)</th>\n",
       "      <th>GNI per capita, PPP (current international $)</th>\n",
       "      <th>Income share held by lowest 20%</th>\n",
       "      <th>...</th>\n",
       "      <th>Net barter terms of trade index (2000 = 100)</th>\n",
       "      <th>External debt stocks, total (DOD, current US$)</th>\n",
       "      <th>Total debt service (% of GNI)</th>\n",
       "      <th>Net migration</th>\n",
       "      <th>Personal remittances, paid (current US$)</th>\n",
       "      <th>Foreign direct investment, net inflows (BoP, current US$)</th>\n",
       "      <th>Net ODA received per capita (current US$)</th>\n",
       "      <th>GDP per capita (current US$)</th>\n",
       "      <th>Foreign direct investment, net (BoP, current US$)</th>\n",
       "      <th>Inflation, consumer prices (annual %)</th>\n",
       "    </tr>\n",
       "  </thead>\n",
       "  <tbody>\n",
       "    <tr>\n",
       "      <th>26</th>\n",
       "      <td>2016</td>\n",
       "      <td>103663812.0</td>\n",
       "      <td>1.507103</td>\n",
       "      <td>300000.0</td>\n",
       "      <td>NaN</td>\n",
       "      <td>3.579044e+11</td>\n",
       "      <td>3450.0</td>\n",
       "      <td>8.872914e+11</td>\n",
       "      <td>8560.0</td>\n",
       "      <td>NaN</td>\n",
       "      <td>...</td>\n",
       "      <td>84.217166</td>\n",
       "      <td>7.473913e+10</td>\n",
       "      <td>3.105358</td>\n",
       "      <td>NaN</td>\n",
       "      <td>1.960729e+08</td>\n",
       "      <td>8.279548e+09</td>\n",
       "      <td>2.736249</td>\n",
       "      <td>3073.654686</td>\n",
       "      <td>-5.882814e+09</td>\n",
       "      <td>1.253699</td>\n",
       "    </tr>\n",
       "    <tr>\n",
       "      <th>27</th>\n",
       "      <td>2017</td>\n",
       "      <td>105172921.0</td>\n",
       "      <td>1.445278</td>\n",
       "      <td>300000.0</td>\n",
       "      <td>NaN</td>\n",
       "      <td>3.714328e+11</td>\n",
       "      <td>3530.0</td>\n",
       "      <td>9.483192e+11</td>\n",
       "      <td>9020.0</td>\n",
       "      <td>NaN</td>\n",
       "      <td>...</td>\n",
       "      <td>82.844959</td>\n",
       "      <td>7.341436e+10</td>\n",
       "      <td>3.072425</td>\n",
       "      <td>-335758.0</td>\n",
       "      <td>2.462116e+08</td>\n",
       "      <td>1.025644e+10</td>\n",
       "      <td>1.525868</td>\n",
       "      <td>3123.245642</td>\n",
       "      <td>-6.951711e+09</td>\n",
       "      <td>2.853188</td>\n",
       "    </tr>\n",
       "    <tr>\n",
       "      <th>28</th>\n",
       "      <td>2018</td>\n",
       "      <td>106651394.0</td>\n",
       "      <td>1.395965</td>\n",
       "      <td>300000.0</td>\n",
       "      <td>16.7</td>\n",
       "      <td>3.952677e+11</td>\n",
       "      <td>3710.0</td>\n",
       "      <td>1.029214e+12</td>\n",
       "      <td>9650.0</td>\n",
       "      <td>6.2</td>\n",
       "      <td>...</td>\n",
       "      <td>80.074251</td>\n",
       "      <td>7.899720e+10</td>\n",
       "      <td>2.292599</td>\n",
       "      <td>NaN</td>\n",
       "      <td>2.585236e+08</td>\n",
       "      <td>9.948599e+09</td>\n",
       "      <td>5.132048</td>\n",
       "      <td>3252.110274</td>\n",
       "      <td>-5.832901e+09</td>\n",
       "      <td>5.211605</td>\n",
       "    </tr>\n",
       "    <tr>\n",
       "      <th>29</th>\n",
       "      <td>2019</td>\n",
       "      <td>108116622.0</td>\n",
       "      <td>1.364496</td>\n",
       "      <td>NaN</td>\n",
       "      <td>NaN</td>\n",
       "      <td>4.162174e+11</td>\n",
       "      <td>3850.0</td>\n",
       "      <td>1.105173e+12</td>\n",
       "      <td>10220.0</td>\n",
       "      <td>NaN</td>\n",
       "      <td>...</td>\n",
       "      <td>80.679138</td>\n",
       "      <td>8.366100e+10</td>\n",
       "      <td>2.528894</td>\n",
       "      <td>NaN</td>\n",
       "      <td>2.257232e+08</td>\n",
       "      <td>8.671366e+09</td>\n",
       "      <td>8.374106</td>\n",
       "      <td>3485.340844</td>\n",
       "      <td>-5.320429e+09</td>\n",
       "      <td>2.480279</td>\n",
       "    </tr>\n",
       "    <tr>\n",
       "      <th>30</th>\n",
       "      <td>2020</td>\n",
       "      <td>109581085.0</td>\n",
       "      <td>1.345430</td>\n",
       "      <td>NaN</td>\n",
       "      <td>NaN</td>\n",
       "      <td>3.759977e+11</td>\n",
       "      <td>3430.0</td>\n",
       "      <td>9.902194e+11</td>\n",
       "      <td>9040.0</td>\n",
       "      <td>NaN</td>\n",
       "      <td>...</td>\n",
       "      <td>NaN</td>\n",
       "      <td>NaN</td>\n",
       "      <td>NaN</td>\n",
       "      <td>NaN</td>\n",
       "      <td>2.111945e+08</td>\n",
       "      <td>NaN</td>\n",
       "      <td>NaN</td>\n",
       "      <td>3298.829851</td>\n",
       "      <td>-3.017073e+09</td>\n",
       "      <td>2.635229</td>\n",
       "    </tr>\n",
       "  </tbody>\n",
       "</table>\n",
       "<p>5 rows × 52 columns</p>\n",
       "</div>"
      ],
      "text/plain": [
       "    Years  Population, total  Population growth (annual %)  \\\n",
       "26   2016        103663812.0                      1.507103   \n",
       "27   2017        105172921.0                      1.445278   \n",
       "28   2018        106651394.0                      1.395965   \n",
       "29   2019        108116622.0                      1.364496   \n",
       "30   2020        109581085.0                      1.345430   \n",
       "\n",
       "    Surface area (sq. km)  \\\n",
       "26               300000.0   \n",
       "27               300000.0   \n",
       "28               300000.0   \n",
       "29                    NaN   \n",
       "30                    NaN   \n",
       "\n",
       "    Poverty headcount ratio at national poverty lines (% of population)  \\\n",
       "26                                                NaN                     \n",
       "27                                                NaN                     \n",
       "28                                               16.7                     \n",
       "29                                                NaN                     \n",
       "30                                                NaN                     \n",
       "\n",
       "    GNI, Atlas method (current US$)  \\\n",
       "26                     3.579044e+11   \n",
       "27                     3.714328e+11   \n",
       "28                     3.952677e+11   \n",
       "29                     4.162174e+11   \n",
       "30                     3.759977e+11   \n",
       "\n",
       "    GNI per capita, Atlas method (current US$)  \\\n",
       "26                                      3450.0   \n",
       "27                                      3530.0   \n",
       "28                                      3710.0   \n",
       "29                                      3850.0   \n",
       "30                                      3430.0   \n",
       "\n",
       "    GNI, PPP (current international $)  \\\n",
       "26                        8.872914e+11   \n",
       "27                        9.483192e+11   \n",
       "28                        1.029214e+12   \n",
       "29                        1.105173e+12   \n",
       "30                        9.902194e+11   \n",
       "\n",
       "    GNI per capita, PPP (current international $)  \\\n",
       "26                                         8560.0   \n",
       "27                                         9020.0   \n",
       "28                                         9650.0   \n",
       "29                                        10220.0   \n",
       "30                                         9040.0   \n",
       "\n",
       "    Income share held by lowest 20%  ...  \\\n",
       "26                              NaN  ...   \n",
       "27                              NaN  ...   \n",
       "28                              6.2  ...   \n",
       "29                              NaN  ...   \n",
       "30                              NaN  ...   \n",
       "\n",
       "    Net barter terms of trade index (2000 = 100)  \\\n",
       "26                                     84.217166   \n",
       "27                                     82.844959   \n",
       "28                                     80.074251   \n",
       "29                                     80.679138   \n",
       "30                                           NaN   \n",
       "\n",
       "    External debt stocks, total (DOD, current US$)  \\\n",
       "26                                    7.473913e+10   \n",
       "27                                    7.341436e+10   \n",
       "28                                    7.899720e+10   \n",
       "29                                    8.366100e+10   \n",
       "30                                             NaN   \n",
       "\n",
       "    Total debt service (% of GNI)  Net migration  \\\n",
       "26                       3.105358            NaN   \n",
       "27                       3.072425      -335758.0   \n",
       "28                       2.292599            NaN   \n",
       "29                       2.528894            NaN   \n",
       "30                            NaN            NaN   \n",
       "\n",
       "    Personal remittances, paid (current US$)  \\\n",
       "26                              1.960729e+08   \n",
       "27                              2.462116e+08   \n",
       "28                              2.585236e+08   \n",
       "29                              2.257232e+08   \n",
       "30                              2.111945e+08   \n",
       "\n",
       "    Foreign direct investment, net inflows (BoP, current US$)  \\\n",
       "26                                       8.279548e+09           \n",
       "27                                       1.025644e+10           \n",
       "28                                       9.948599e+09           \n",
       "29                                       8.671366e+09           \n",
       "30                                                NaN           \n",
       "\n",
       "    Net ODA received per capita (current US$)  GDP per capita (current US$)  \\\n",
       "26                                   2.736249                   3073.654686   \n",
       "27                                   1.525868                   3123.245642   \n",
       "28                                   5.132048                   3252.110274   \n",
       "29                                   8.374106                   3485.340844   \n",
       "30                                        NaN                   3298.829851   \n",
       "\n",
       "    Foreign direct investment, net (BoP, current US$)  \\\n",
       "26                                      -5.882814e+09   \n",
       "27                                      -6.951711e+09   \n",
       "28                                      -5.832901e+09   \n",
       "29                                      -5.320429e+09   \n",
       "30                                      -3.017073e+09   \n",
       "\n",
       "    Inflation, consumer prices (annual %)  \n",
       "26                               1.253699  \n",
       "27                               2.853188  \n",
       "28                               5.211605  \n",
       "29                               2.480279  \n",
       "30                               2.635229  \n",
       "\n",
       "[5 rows x 52 columns]"
      ]
     },
     "execution_count": 4,
     "metadata": {},
     "output_type": "execute_result"
    }
   ],
   "source": [
    "data.tail()"
   ]
  },
  {
   "cell_type": "code",
   "execution_count": 5,
   "metadata": {},
   "outputs": [
    {
     "data": {
      "text/plain": [
       "High-technology exports (% of manufactured exports)                                                 28\n",
       "Water productivity, total (constant 2010 US$ GDP per cubic meter of total freshwater withdrawal)    28\n",
       "Poverty headcount ratio at national poverty lines (% of population)                                 25\n",
       "Net migration                                                                                       25\n",
       "Income share held by lowest 20%                                                                     24\n",
       "Births attended by skilled health staff (% of total)                                                22\n",
       "Prevalence of underweight, weight for age (% of children under 5)                                   21\n",
       "Primary completion rate, total (% of relevant age group)                                            16\n",
       "School enrollment, primary and secondary (gross), gender parity index (GPI)                         14\n",
       "Start-up procedures to register a business (number)                                                 14\n",
       "Contraceptive prevalence, any methods (% of women ages 15-49)                                       14\n",
       "School enrollment, secondary (% gross)                                                               7\n",
       "Market capitalization of listed domestic companies (% of GDP)                                        6\n",
       "Energy use (kg of oil equivalent per capita)                                                         6\n",
       "Electric power consumption (kWh per capita)                                                          6\n",
       "CO2 emissions (metric tons per capita)                                                               2\n",
       "Surface area (sq. km)                                                                                2\n",
       "Personal remittances, paid (current US$)                                                             2\n",
       "Forest area (sq. km)                                                                                 2\n",
       "Adolescent fertility rate (births per 1,000 women ages 15-19)                                        1\n",
       "Military expenditure (% of GDP)                                                                      1\n",
       "Mobile cellular subscriptions (per 100 people)                                                       1\n",
       "Net barter terms of trade index (2000 = 100)                                                         1\n",
       "External debt stocks, total (DOD, current US$)                                                       1\n",
       "Total debt service (% of GNI)                                                                        1\n",
       "Mortality rate, under-5 (per 1,000 live births)                                                      1\n",
       "Net ODA received per capita (current US$)                                                            1\n",
       "Foreign direct investment, net inflows (BoP, current US$)                                            1\n",
       "Prevalence of HIV, total (% of population ages 15-49)                                                1\n",
       "Life expectancy at birth, total (years)                                                              1\n",
       "Fertility rate, total (births per woman)                                                             1\n",
       "Immunization, measles (% of children ages 12-23 months)                                              1\n",
       "Revenue, excluding grants (% of GDP)                                                                 1\n",
       "GDP per capita (current US$)                                                                         0\n",
       "Merchandise trade (% of GDP)                                                                         0\n",
       "Foreign direct investment, net (BoP, current US$)                                                    0\n",
       "Years                                                                                                0\n",
       "Gross capital formation (% of GDP)                                                                   0\n",
       "Imports of goods and services (% of GDP)                                                             0\n",
       "Exports of goods and services (% of GDP)                                                             0\n",
       "Industry (including construction), value added (% of GDP)                                            0\n",
       "Agriculture, forestry, and fishing, value added (% of GDP)                                           0\n",
       "Inflation, GDP deflator (annual %)                                                                   0\n",
       "GDP growth (annual %)                                                                                0\n",
       "GDP (current US$)                                                                                    0\n",
       "Population, total                                                                                    0\n",
       "GNI per capita, PPP (current international $)                                                        0\n",
       "GNI, PPP (current international $)                                                                   0\n",
       "GNI per capita, Atlas method (current US$)                                                           0\n",
       "GNI, Atlas method (current US$)                                                                      0\n",
       "Population growth (annual %)                                                                         0\n",
       "Inflation, consumer prices (annual %)                                                                0\n",
       "dtype: int64"
      ]
     },
     "execution_count": 5,
     "metadata": {},
     "output_type": "execute_result"
    }
   ],
   "source": [
    "# check na-values\n",
    "\n",
    "data.isna().sum().sort_values(ascending=False)"
   ]
  },
  {
   "cell_type": "code",
   "execution_count": 6,
   "metadata": {},
   "outputs": [
    {
     "data": {
      "text/plain": [
       "True"
      ]
     },
     "execution_count": 6,
     "metadata": {},
     "output_type": "execute_result"
    }
   ],
   "source": [
    "# fill na-values with mean of particular column\n",
    "\n",
    "na_columns = [\n",
    "    column for column, count in data.isna().sum().sort_values(ascending=False).items() if count != 0 \n",
    "]\n",
    "\n",
    "for column in na_columns:\n",
    "    data[column].fillna(data[column].mean(), inplace=True)\n",
    "\n",
    "all(data.isna().sum().sort_values(ascending=False) == 0) # verify there are no na-values"
   ]
  },
  {
   "cell_type": "code",
   "execution_count": 7,
   "metadata": {},
   "outputs": [
    {
     "data": {
      "text/plain": [
       "(31, 52)"
      ]
     },
     "execution_count": 7,
     "metadata": {},
     "output_type": "execute_result"
    }
   ],
   "source": [
    "data.shape"
   ]
  },
  {
   "cell_type": "code",
   "execution_count": 8,
   "metadata": {},
   "outputs": [
    {
     "data": {
      "text/plain": [
       "Index(['Years', 'Population, total', 'Population growth (annual %)',\n",
       "       'Surface area (sq. km)',\n",
       "       'Poverty headcount ratio at national poverty lines (% of population)',\n",
       "       'GNI, Atlas method (current US$)',\n",
       "       'GNI per capita, Atlas method (current US$)',\n",
       "       'GNI, PPP (current international $)',\n",
       "       'GNI per capita, PPP (current international $)',\n",
       "       'Income share held by lowest 20%',\n",
       "       'Life expectancy at birth, total (years)',\n",
       "       'Fertility rate, total (births per woman)',\n",
       "       'Adolescent fertility rate (births per 1,000 women ages 15-19)',\n",
       "       'Contraceptive prevalence, any methods (% of women ages 15-49)',\n",
       "       'Births attended by skilled health staff (% of total)',\n",
       "       'Mortality rate, under-5 (per 1,000 live births)',\n",
       "       'Prevalence of underweight, weight for age (% of children under 5)',\n",
       "       'Immunization, measles (% of children ages 12-23 months)',\n",
       "       'Primary completion rate, total (% of relevant age group)',\n",
       "       'School enrollment, secondary (% gross)',\n",
       "       'School enrollment, primary and secondary (gross), gender parity index (GPI)',\n",
       "       'Prevalence of HIV, total (% of population ages 15-49)',\n",
       "       'Forest area (sq. km)',\n",
       "       'Water productivity, total (constant 2010 US$ GDP per cubic meter of total freshwater withdrawal)',\n",
       "       'Energy use (kg of oil equivalent per capita)',\n",
       "       'CO2 emissions (metric tons per capita)',\n",
       "       'Electric power consumption (kWh per capita)', 'GDP (current US$)',\n",
       "       'GDP growth (annual %)', 'Inflation, GDP deflator (annual %)',\n",
       "       'Agriculture, forestry, and fishing, value added (% of GDP)',\n",
       "       'Industry (including construction), value added (% of GDP)',\n",
       "       'Exports of goods and services (% of GDP)',\n",
       "       'Imports of goods and services (% of GDP)',\n",
       "       'Gross capital formation (% of GDP)',\n",
       "       'Revenue, excluding grants (% of GDP)',\n",
       "       'Start-up procedures to register a business (number)',\n",
       "       'Market capitalization of listed domestic companies (% of GDP)',\n",
       "       'Military expenditure (% of GDP)',\n",
       "       'Mobile cellular subscriptions (per 100 people)',\n",
       "       'High-technology exports (% of manufactured exports)',\n",
       "       'Merchandise trade (% of GDP)',\n",
       "       'Net barter terms of trade index (2000 = 100)',\n",
       "       'External debt stocks, total (DOD, current US$)',\n",
       "       'Total debt service (% of GNI)', 'Net migration',\n",
       "       'Personal remittances, paid (current US$)',\n",
       "       'Foreign direct investment, net inflows (BoP, current US$)',\n",
       "       'Net ODA received per capita (current US$)',\n",
       "       'GDP per capita (current US$)',\n",
       "       'Foreign direct investment, net (BoP, current US$)',\n",
       "       'Inflation, consumer prices (annual %)'],\n",
       "      dtype='object')"
      ]
     },
     "execution_count": 8,
     "metadata": {},
     "output_type": "execute_result"
    }
   ],
   "source": [
    "data.columns"
   ]
  },
  {
   "cell_type": "code",
   "execution_count": 9,
   "metadata": {},
   "outputs": [
    {
     "data": {
      "text/plain": [
       "Years                                                                                                 int64\n",
       "Population, total                                                                                   float64\n",
       "Population growth (annual %)                                                                        float64\n",
       "Surface area (sq. km)                                                                               float64\n",
       "Poverty headcount ratio at national poverty lines (% of population)                                 float64\n",
       "GNI, Atlas method (current US$)                                                                     float64\n",
       "GNI per capita, Atlas method (current US$)                                                          float64\n",
       "GNI, PPP (current international $)                                                                  float64\n",
       "GNI per capita, PPP (current international $)                                                       float64\n",
       "Income share held by lowest 20%                                                                     float64\n",
       "Life expectancy at birth, total (years)                                                             float64\n",
       "Fertility rate, total (births per woman)                                                            float64\n",
       "Adolescent fertility rate (births per 1,000 women ages 15-19)                                       float64\n",
       "Contraceptive prevalence, any methods (% of women ages 15-49)                                       float64\n",
       "Births attended by skilled health staff (% of total)                                                float64\n",
       "Mortality rate, under-5 (per 1,000 live births)                                                     float64\n",
       "Prevalence of underweight, weight for age (% of children under 5)                                   float64\n",
       "Immunization, measles (% of children ages 12-23 months)                                             float64\n",
       "Primary completion rate, total (% of relevant age group)                                            float64\n",
       "School enrollment, secondary (% gross)                                                              float64\n",
       "School enrollment, primary and secondary (gross), gender parity index (GPI)                         float64\n",
       "Prevalence of HIV, total (% of population ages 15-49)                                               float64\n",
       "Forest area (sq. km)                                                                                float64\n",
       "Water productivity, total (constant 2010 US$ GDP per cubic meter of total freshwater withdrawal)    float64\n",
       "Energy use (kg of oil equivalent per capita)                                                        float64\n",
       "CO2 emissions (metric tons per capita)                                                              float64\n",
       "Electric power consumption (kWh per capita)                                                         float64\n",
       "GDP (current US$)                                                                                   float64\n",
       "GDP growth (annual %)                                                                               float64\n",
       "Inflation, GDP deflator (annual %)                                                                  float64\n",
       "Agriculture, forestry, and fishing, value added (% of GDP)                                          float64\n",
       "Industry (including construction), value added (% of GDP)                                           float64\n",
       "Exports of goods and services (% of GDP)                                                            float64\n",
       "Imports of goods and services (% of GDP)                                                            float64\n",
       "Gross capital formation (% of GDP)                                                                  float64\n",
       "Revenue, excluding grants (% of GDP)                                                                float64\n",
       "Start-up procedures to register a business (number)                                                 float64\n",
       "Market capitalization of listed domestic companies (% of GDP)                                       float64\n",
       "Military expenditure (% of GDP)                                                                     float64\n",
       "Mobile cellular subscriptions (per 100 people)                                                      float64\n",
       "High-technology exports (% of manufactured exports)                                                 float64\n",
       "Merchandise trade (% of GDP)                                                                        float64\n",
       "Net barter terms of trade index (2000 = 100)                                                        float64\n",
       "External debt stocks, total (DOD, current US$)                                                      float64\n",
       "Total debt service (% of GNI)                                                                       float64\n",
       "Net migration                                                                                       float64\n",
       "Personal remittances, paid (current US$)                                                            float64\n",
       "Foreign direct investment, net inflows (BoP, current US$)                                           float64\n",
       "Net ODA received per capita (current US$)                                                           float64\n",
       "GDP per capita (current US$)                                                                        float64\n",
       "Foreign direct investment, net (BoP, current US$)                                                   float64\n",
       "Inflation, consumer prices (annual %)                                                               float64\n",
       "dtype: object"
      ]
     },
     "execution_count": 9,
     "metadata": {},
     "output_type": "execute_result"
    }
   ],
   "source": [
    "data.dtypes"
   ]
  },
  {
   "cell_type": "code",
   "execution_count": 10,
   "metadata": {},
   "outputs": [
    {
     "data": {
      "text/html": [
       "<div>\n",
       "<style scoped>\n",
       "    .dataframe tbody tr th:only-of-type {\n",
       "        vertical-align: middle;\n",
       "    }\n",
       "\n",
       "    .dataframe tbody tr th {\n",
       "        vertical-align: top;\n",
       "    }\n",
       "\n",
       "    .dataframe thead th {\n",
       "        text-align: right;\n",
       "    }\n",
       "</style>\n",
       "<table border=\"1\" class=\"dataframe\">\n",
       "  <thead>\n",
       "    <tr style=\"text-align: right;\">\n",
       "      <th></th>\n",
       "      <th>Years</th>\n",
       "      <th>Population, total</th>\n",
       "      <th>Population growth (annual %)</th>\n",
       "      <th>Surface area (sq. km)</th>\n",
       "      <th>Poverty headcount ratio at national poverty lines (% of population)</th>\n",
       "      <th>GNI, Atlas method (current US$)</th>\n",
       "      <th>GNI per capita, Atlas method (current US$)</th>\n",
       "      <th>GNI, PPP (current international $)</th>\n",
       "      <th>GNI per capita, PPP (current international $)</th>\n",
       "      <th>Income share held by lowest 20%</th>\n",
       "      <th>...</th>\n",
       "      <th>Net barter terms of trade index (2000 = 100)</th>\n",
       "      <th>External debt stocks, total (DOD, current US$)</th>\n",
       "      <th>Total debt service (% of GNI)</th>\n",
       "      <th>Net migration</th>\n",
       "      <th>Personal remittances, paid (current US$)</th>\n",
       "      <th>Foreign direct investment, net inflows (BoP, current US$)</th>\n",
       "      <th>Net ODA received per capita (current US$)</th>\n",
       "      <th>GDP per capita (current US$)</th>\n",
       "      <th>Foreign direct investment, net (BoP, current US$)</th>\n",
       "      <th>Inflation, consumer prices (annual %)</th>\n",
       "    </tr>\n",
       "  </thead>\n",
       "  <tbody>\n",
       "    <tr>\n",
       "      <th>count</th>\n",
       "      <td>31.000000</td>\n",
       "      <td>3.100000e+01</td>\n",
       "      <td>31.000000</td>\n",
       "      <td>31.0</td>\n",
       "      <td>31.000000</td>\n",
       "      <td>3.100000e+01</td>\n",
       "      <td>31.000000</td>\n",
       "      <td>3.100000e+01</td>\n",
       "      <td>31.000000</td>\n",
       "      <td>31.000000</td>\n",
       "      <td>...</td>\n",
       "      <td>31.000000</td>\n",
       "      <td>3.100000e+01</td>\n",
       "      <td>31.000000</td>\n",
       "      <td>3.100000e+01</td>\n",
       "      <td>3.100000e+01</td>\n",
       "      <td>3.100000e+01</td>\n",
       "      <td>31.000000</td>\n",
       "      <td>31.000000</td>\n",
       "      <td>3.100000e+01</td>\n",
       "      <td>31.000000</td>\n",
       "    </tr>\n",
       "    <tr>\n",
       "      <th>mean</th>\n",
       "      <td>2005.000000</td>\n",
       "      <td>8.598457e+07</td>\n",
       "      <td>1.924699</td>\n",
       "      <td>300000.0</td>\n",
       "      <td>23.866667</td>\n",
       "      <td>1.806399e+11</td>\n",
       "      <td>1935.483871</td>\n",
       "      <td>4.966861e+11</td>\n",
       "      <td>5404.838710</td>\n",
       "      <td>5.371429</td>\n",
       "      <td>...</td>\n",
       "      <td>85.041630</td>\n",
       "      <td>5.802360e+10</td>\n",
       "      <td>6.087771</td>\n",
       "      <td>-9.351722e+05</td>\n",
       "      <td>1.070997e+08</td>\n",
       "      <td>2.894127e+09</td>\n",
       "      <td>8.008823</td>\n",
       "      <td>1788.467448</td>\n",
       "      <td>-1.201649e+09</td>\n",
       "      <td>5.536587</td>\n",
       "    </tr>\n",
       "    <tr>\n",
       "      <th>std</th>\n",
       "      <td>9.092121</td>\n",
       "      <td>1.457651e+07</td>\n",
       "      <td>0.367034</td>\n",
       "      <td>0.0</td>\n",
       "      <td>1.502590</td>\n",
       "      <td>1.243153e+11</td>\n",
       "      <td>1062.948223</td>\n",
       "      <td>2.895498e+11</td>\n",
       "      <td>2336.007807</td>\n",
       "      <td>0.183874</td>\n",
       "      <td>...</td>\n",
       "      <td>7.782362</td>\n",
       "      <td>1.426273e+10</td>\n",
       "      <td>2.872746</td>\n",
       "      <td>1.728864e+05</td>\n",
       "      <td>7.982478e+07</td>\n",
       "      <td>2.836030e+09</td>\n",
       "      <td>5.965226</td>\n",
       "      <td>945.292524</td>\n",
       "      <td>2.190987e+09</td>\n",
       "      <td>3.716737</td>\n",
       "    </tr>\n",
       "    <tr>\n",
       "      <th>min</th>\n",
       "      <td>1990.000000</td>\n",
       "      <td>6.189517e+07</td>\n",
       "      <td>1.345430</td>\n",
       "      <td>300000.0</td>\n",
       "      <td>16.700000</td>\n",
       "      <td>4.485608e+10</td>\n",
       "      <td>720.000000</td>\n",
       "      <td>1.624582e+11</td>\n",
       "      <td>2620.000000</td>\n",
       "      <td>5.000000</td>\n",
       "      <td>...</td>\n",
       "      <td>73.519289</td>\n",
       "      <td>3.057985e+10</td>\n",
       "      <td>1.844707</td>\n",
       "      <td>-1.548077e+06</td>\n",
       "      <td>5.000000e+06</td>\n",
       "      <td>2.280000e+08</td>\n",
       "      <td>-1.421680</td>\n",
       "      <td>715.746831</td>\n",
       "      <td>-6.951711e+09</td>\n",
       "      <td>0.674193</td>\n",
       "    </tr>\n",
       "    <tr>\n",
       "      <th>25%</th>\n",
       "      <td>1997.500000</td>\n",
       "      <td>7.385144e+07</td>\n",
       "      <td>1.654911</td>\n",
       "      <td>300000.0</td>\n",
       "      <td>23.866667</td>\n",
       "      <td>8.958988e+10</td>\n",
       "      <td>1155.000000</td>\n",
       "      <td>2.631099e+11</td>\n",
       "      <td>3560.000000</td>\n",
       "      <td>5.371429</td>\n",
       "      <td>...</td>\n",
       "      <td>79.641086</td>\n",
       "      <td>5.215702e+10</td>\n",
       "      <td>3.385278</td>\n",
       "      <td>-9.351722e+05</td>\n",
       "      <td>2.450000e+07</td>\n",
       "      <td>1.230000e+09</td>\n",
       "      <td>5.087490</td>\n",
       "      <td>1042.083268</td>\n",
       "      <td>-1.558051e+09</td>\n",
       "      <td>2.876594</td>\n",
       "    </tr>\n",
       "    <tr>\n",
       "      <th>50%</th>\n",
       "      <td>2005.000000</td>\n",
       "      <td>8.632625e+07</td>\n",
       "      <td>1.889365</td>\n",
       "      <td>300000.0</td>\n",
       "      <td>23.866667</td>\n",
       "      <td>1.188285e+11</td>\n",
       "      <td>1380.000000</td>\n",
       "      <td>4.140994e+11</td>\n",
       "      <td>4800.000000</td>\n",
       "      <td>5.371429</td>\n",
       "      <td>...</td>\n",
       "      <td>82.844959</td>\n",
       "      <td>5.848070e+10</td>\n",
       "      <td>6.087771</td>\n",
       "      <td>-9.351722e+05</td>\n",
       "      <td>1.070997e+08</td>\n",
       "      <td>1.769000e+09</td>\n",
       "      <td>6.943141</td>\n",
       "      <td>1244.348741</td>\n",
       "      <td>-8.640000e+08</td>\n",
       "      <td>4.829211</td>\n",
       "    </tr>\n",
       "    <tr>\n",
       "      <th>75%</th>\n",
       "      <td>2012.500000</td>\n",
       "      <td>9.804210e+07</td>\n",
       "      <td>2.239151</td>\n",
       "      <td>300000.0</td>\n",
       "      <td>23.866667</td>\n",
       "      <td>2.954201e+11</td>\n",
       "      <td>3010.000000</td>\n",
       "      <td>7.052957e+11</td>\n",
       "      <td>7190.000000</td>\n",
       "      <td>5.371429</td>\n",
       "      <td>...</td>\n",
       "      <td>91.290705</td>\n",
       "      <td>6.615735e+10</td>\n",
       "      <td>8.058670</td>\n",
       "      <td>-9.351722e+05</td>\n",
       "      <td>1.681521e+08</td>\n",
       "      <td>3.067070e+09</td>\n",
       "      <td>8.703621</td>\n",
       "      <td>2782.867405</td>\n",
       "      <td>-1.043253e+08</td>\n",
       "      <td>6.774154</td>\n",
       "    </tr>\n",
       "    <tr>\n",
       "      <th>max</th>\n",
       "      <td>2020.000000</td>\n",
       "      <td>1.095811e+08</td>\n",
       "      <td>2.543417</td>\n",
       "      <td>300000.0</td>\n",
       "      <td>26.600000</td>\n",
       "      <td>4.162174e+11</td>\n",
       "      <td>3850.000000</td>\n",
       "      <td>1.105173e+12</td>\n",
       "      <td>10220.000000</td>\n",
       "      <td>6.200000</td>\n",
       "      <td>...</td>\n",
       "      <td>102.884615</td>\n",
       "      <td>8.366100e+10</td>\n",
       "      <td>11.054611</td>\n",
       "      <td>-3.357580e+05</td>\n",
       "      <td>2.585236e+08</td>\n",
       "      <td>1.025644e+10</td>\n",
       "      <td>25.168361</td>\n",
       "      <td>3485.340844</td>\n",
       "      <td>2.453941e+09</td>\n",
       "      <td>19.261459</td>\n",
       "    </tr>\n",
       "  </tbody>\n",
       "</table>\n",
       "<p>8 rows × 52 columns</p>\n",
       "</div>"
      ],
      "text/plain": [
       "             Years  Population, total  Population growth (annual %)  \\\n",
       "count    31.000000       3.100000e+01                     31.000000   \n",
       "mean   2005.000000       8.598457e+07                      1.924699   \n",
       "std       9.092121       1.457651e+07                      0.367034   \n",
       "min    1990.000000       6.189517e+07                      1.345430   \n",
       "25%    1997.500000       7.385144e+07                      1.654911   \n",
       "50%    2005.000000       8.632625e+07                      1.889365   \n",
       "75%    2012.500000       9.804210e+07                      2.239151   \n",
       "max    2020.000000       1.095811e+08                      2.543417   \n",
       "\n",
       "       Surface area (sq. km)  \\\n",
       "count                   31.0   \n",
       "mean                300000.0   \n",
       "std                      0.0   \n",
       "min                 300000.0   \n",
       "25%                 300000.0   \n",
       "50%                 300000.0   \n",
       "75%                 300000.0   \n",
       "max                 300000.0   \n",
       "\n",
       "       Poverty headcount ratio at national poverty lines (% of population)  \\\n",
       "count                                          31.000000                     \n",
       "mean                                           23.866667                     \n",
       "std                                             1.502590                     \n",
       "min                                            16.700000                     \n",
       "25%                                            23.866667                     \n",
       "50%                                            23.866667                     \n",
       "75%                                            23.866667                     \n",
       "max                                            26.600000                     \n",
       "\n",
       "       GNI, Atlas method (current US$)  \\\n",
       "count                     3.100000e+01   \n",
       "mean                      1.806399e+11   \n",
       "std                       1.243153e+11   \n",
       "min                       4.485608e+10   \n",
       "25%                       8.958988e+10   \n",
       "50%                       1.188285e+11   \n",
       "75%                       2.954201e+11   \n",
       "max                       4.162174e+11   \n",
       "\n",
       "       GNI per capita, Atlas method (current US$)  \\\n",
       "count                                   31.000000   \n",
       "mean                                  1935.483871   \n",
       "std                                   1062.948223   \n",
       "min                                    720.000000   \n",
       "25%                                   1155.000000   \n",
       "50%                                   1380.000000   \n",
       "75%                                   3010.000000   \n",
       "max                                   3850.000000   \n",
       "\n",
       "       GNI, PPP (current international $)  \\\n",
       "count                        3.100000e+01   \n",
       "mean                         4.966861e+11   \n",
       "std                          2.895498e+11   \n",
       "min                          1.624582e+11   \n",
       "25%                          2.631099e+11   \n",
       "50%                          4.140994e+11   \n",
       "75%                          7.052957e+11   \n",
       "max                          1.105173e+12   \n",
       "\n",
       "       GNI per capita, PPP (current international $)  \\\n",
       "count                                      31.000000   \n",
       "mean                                     5404.838710   \n",
       "std                                      2336.007807   \n",
       "min                                      2620.000000   \n",
       "25%                                      3560.000000   \n",
       "50%                                      4800.000000   \n",
       "75%                                      7190.000000   \n",
       "max                                     10220.000000   \n",
       "\n",
       "       Income share held by lowest 20%  ...  \\\n",
       "count                        31.000000  ...   \n",
       "mean                          5.371429  ...   \n",
       "std                           0.183874  ...   \n",
       "min                           5.000000  ...   \n",
       "25%                           5.371429  ...   \n",
       "50%                           5.371429  ...   \n",
       "75%                           5.371429  ...   \n",
       "max                           6.200000  ...   \n",
       "\n",
       "       Net barter terms of trade index (2000 = 100)  \\\n",
       "count                                     31.000000   \n",
       "mean                                      85.041630   \n",
       "std                                        7.782362   \n",
       "min                                       73.519289   \n",
       "25%                                       79.641086   \n",
       "50%                                       82.844959   \n",
       "75%                                       91.290705   \n",
       "max                                      102.884615   \n",
       "\n",
       "       External debt stocks, total (DOD, current US$)  \\\n",
       "count                                    3.100000e+01   \n",
       "mean                                     5.802360e+10   \n",
       "std                                      1.426273e+10   \n",
       "min                                      3.057985e+10   \n",
       "25%                                      5.215702e+10   \n",
       "50%                                      5.848070e+10   \n",
       "75%                                      6.615735e+10   \n",
       "max                                      8.366100e+10   \n",
       "\n",
       "       Total debt service (% of GNI)  Net migration  \\\n",
       "count                      31.000000   3.100000e+01   \n",
       "mean                        6.087771  -9.351722e+05   \n",
       "std                         2.872746   1.728864e+05   \n",
       "min                         1.844707  -1.548077e+06   \n",
       "25%                         3.385278  -9.351722e+05   \n",
       "50%                         6.087771  -9.351722e+05   \n",
       "75%                         8.058670  -9.351722e+05   \n",
       "max                        11.054611  -3.357580e+05   \n",
       "\n",
       "       Personal remittances, paid (current US$)  \\\n",
       "count                              3.100000e+01   \n",
       "mean                               1.070997e+08   \n",
       "std                                7.982478e+07   \n",
       "min                                5.000000e+06   \n",
       "25%                                2.450000e+07   \n",
       "50%                                1.070997e+08   \n",
       "75%                                1.681521e+08   \n",
       "max                                2.585236e+08   \n",
       "\n",
       "       Foreign direct investment, net inflows (BoP, current US$)  \\\n",
       "count                                       3.100000e+01           \n",
       "mean                                        2.894127e+09           \n",
       "std                                         2.836030e+09           \n",
       "min                                         2.280000e+08           \n",
       "25%                                         1.230000e+09           \n",
       "50%                                         1.769000e+09           \n",
       "75%                                         3.067070e+09           \n",
       "max                                         1.025644e+10           \n",
       "\n",
       "       Net ODA received per capita (current US$)  \\\n",
       "count                                  31.000000   \n",
       "mean                                    8.008823   \n",
       "std                                     5.965226   \n",
       "min                                    -1.421680   \n",
       "25%                                     5.087490   \n",
       "50%                                     6.943141   \n",
       "75%                                     8.703621   \n",
       "max                                    25.168361   \n",
       "\n",
       "       GDP per capita (current US$)  \\\n",
       "count                     31.000000   \n",
       "mean                    1788.467448   \n",
       "std                      945.292524   \n",
       "min                      715.746831   \n",
       "25%                     1042.083268   \n",
       "50%                     1244.348741   \n",
       "75%                     2782.867405   \n",
       "max                     3485.340844   \n",
       "\n",
       "       Foreign direct investment, net (BoP, current US$)  \\\n",
       "count                                       3.100000e+01   \n",
       "mean                                       -1.201649e+09   \n",
       "std                                         2.190987e+09   \n",
       "min                                        -6.951711e+09   \n",
       "25%                                        -1.558051e+09   \n",
       "50%                                        -8.640000e+08   \n",
       "75%                                        -1.043253e+08   \n",
       "max                                         2.453941e+09   \n",
       "\n",
       "       Inflation, consumer prices (annual %)  \n",
       "count                              31.000000  \n",
       "mean                                5.536587  \n",
       "std                                 3.716737  \n",
       "min                                 0.674193  \n",
       "25%                                 2.876594  \n",
       "50%                                 4.829211  \n",
       "75%                                 6.774154  \n",
       "max                                19.261459  \n",
       "\n",
       "[8 rows x 52 columns]"
      ]
     },
     "execution_count": 10,
     "metadata": {},
     "output_type": "execute_result"
    }
   ],
   "source": [
    "data.describe()"
   ]
  },
  {
   "cell_type": "code",
   "execution_count": 11,
   "metadata": {},
   "outputs": [
    {
     "data": {
      "text/plain": [
       "count    31.000000\n",
       "mean      1.924699\n",
       "std       0.367034\n",
       "min       1.345430\n",
       "25%       1.654911\n",
       "50%       1.889365\n",
       "75%       2.239151\n",
       "max       2.543417\n",
       "Name: Population growth (annual %), dtype: float64"
      ]
     },
     "execution_count": 11,
     "metadata": {},
     "output_type": "execute_result"
    }
   ],
   "source": [
    "data[\"Population growth (annual %)\"].describe()"
   ]
  },
  {
   "cell_type": "code",
   "execution_count": 12,
   "metadata": {},
   "outputs": [
    {
     "data": {
      "text/plain": [
       "count    31.000000\n",
       "mean      4.110423\n",
       "std       3.371697\n",
       "min      -9.573030\n",
       "25%       3.065574\n",
       "50%       4.942505\n",
       "75%       6.348149\n",
       "max       7.334500\n",
       "Name: GDP growth (annual %), dtype: float64"
      ]
     },
     "execution_count": 12,
     "metadata": {},
     "output_type": "execute_result"
    }
   ],
   "source": [
    "data[\"GDP growth (annual %)\"].describe()"
   ]
  },
  {
   "cell_type": "code",
   "execution_count": 13,
   "metadata": {},
   "outputs": [
    {
     "data": {
      "text/plain": [
       "count    31.000000\n",
       "mean      5.845441\n",
       "std       4.744889\n",
       "min      -0.719683\n",
       "25%       2.895657\n",
       "50%       5.111587\n",
       "75%       7.365043\n",
       "max      22.381724\n",
       "Name: Inflation, GDP deflator (annual %), dtype: float64"
      ]
     },
     "execution_count": 13,
     "metadata": {},
     "output_type": "execute_result"
    }
   ],
   "source": [
    "data[\"Inflation, GDP deflator (annual %)\"].describe()"
   ]
  },
  {
   "cell_type": "code",
   "execution_count": 14,
   "metadata": {},
   "outputs": [
    {
     "data": {
      "text/plain": [
       "count    31.000000\n",
       "mean      5.536587\n",
       "std       3.716737\n",
       "min       0.674193\n",
       "25%       2.876594\n",
       "50%       4.829211\n",
       "75%       6.774154\n",
       "max      19.261459\n",
       "Name: Inflation, consumer prices (annual %), dtype: float64"
      ]
     },
     "execution_count": 14,
     "metadata": {},
     "output_type": "execute_result"
    }
   ],
   "source": [
    "data[\"Inflation, consumer prices (annual %)\"].describe()"
   ]
  },
  {
   "cell_type": "code",
   "execution_count": 15,
   "metadata": {},
   "outputs": [
    {
     "data": {
      "text/plain": [
       "<AxesSubplot:ylabel='Frequency'>"
      ]
     },
     "execution_count": 15,
     "metadata": {},
     "output_type": "execute_result"
    },
    {
     "data": {
      "image/png": "[encoded data removed]",
      "text/plain": [
       "<Figure size 432x288 with 1 Axes>"
      ]
     },
     "metadata": {
      "needs_background": "light"
     },
     "output_type": "display_data"
    }
   ],
   "source": [
    "data[\"Population growth (annual %)\"].plot(kind=\"hist\")"
   ]
  },
  {
   "cell_type": "code",
   "execution_count": 16,
   "metadata": {},
   "outputs": [
    {
     "data": {
      "text/plain": [
       "<AxesSubplot:>"
      ]
     },
     "execution_count": 16,
     "metadata": {},
     "output_type": "execute_result"
    },
    {
     "data": {
      "image/png": "[encoded data removed]",
      "text/plain": [
       "<Figure size 432x288 with 1 Axes>"
      ]
     },
     "metadata": {
      "needs_background": "light"
     },
     "output_type": "display_data"
    }
   ],
   "source": [
    "data[\"Population growth (annual %)\"].plot(kind=\"box\", vert=False)"
   ]
  },
  {
   "cell_type": "code",
   "execution_count": 17,
   "metadata": {},
   "outputs": [
    {
     "data": {
      "text/plain": [
       "<AxesSubplot:ylabel='Density'>"
      ]
     },
     "execution_count": 17,
     "metadata": {},
     "output_type": "execute_result"
    },
    {
     "data": {
      "image/png": "[encoded data removed]",
      "text/plain": [
       "<Figure size 432x288 with 1 Axes>"
      ]
     },
     "metadata": {
      "needs_background": "light"
     },
     "output_type": "display_data"
    }
   ],
   "source": [
    "data[\"Population growth (annual %)\"].plot(kind=\"density\")"
   ]
  },
  {
   "cell_type": "code",
   "execution_count": 18,
   "metadata": {},
   "outputs": [
    {
     "data": {
      "text/plain": [
       "<AxesSubplot:ylabel='Frequency'>"
      ]
     },
     "execution_count": 18,
     "metadata": {},
     "output_type": "execute_result"
    },
    {
     "data": {
      "image/png": "[encoded data removed]",
      "text/plain": [
       "<Figure size 432x288 with 1 Axes>"
      ]
     },
     "metadata": {
      "needs_background": "light"
     },
     "output_type": "display_data"
    }
   ],
   "source": [
    "data[\"GDP growth (annual %)\"].plot(kind=\"hist\")"
   ]
  },
  {
   "cell_type": "code",
   "execution_count": 19,
   "metadata": {},
   "outputs": [
    {
     "data": {
      "text/plain": [
       "<AxesSubplot:>"
      ]
     },
     "execution_count": 19,
     "metadata": {},
     "output_type": "execute_result"
    },
    {
     "data": {
      "image/png": "[encoded data removed]",
      "text/plain": [
       "<Figure size 432x288 with 1 Axes>"
      ]
     },
     "metadata": {
      "needs_background": "light"
     },
     "output_type": "display_data"
    }
   ],
   "source": [
    "data[\"GDP growth (annual %)\"].plot(kind=\"box\", vert=False)"
   ]
  },
  {
   "cell_type": "code",
   "execution_count": 20,
   "metadata": {},
   "outputs": [
    {
     "data": {
      "text/plain": [
       "<AxesSubplot:ylabel='Density'>"
      ]
     },
     "execution_count": 20,
     "metadata": {},
     "output_type": "execute_result"
    },
    {
     "data": {
      "image/png": "[encoded data removed]",
      "text/plain": [
       "<Figure size 432x288 with 1 Axes>"
      ]
     },
     "metadata": {
      "needs_background": "light"
     },
     "output_type": "display_data"
    }
   ],
   "source": [
    "data[\"GDP growth (annual %)\"].plot(kind=\"density\")"
   ]
  },
  {
   "cell_type": "code",
   "execution_count": 21,
   "metadata": {},
   "outputs": [
    {
     "data": {
      "text/plain": [
       "<AxesSubplot:ylabel='Frequency'>"
      ]
     },
     "execution_count": 21,
     "metadata": {},
     "output_type": "execute_result"
    },
    {
     "data": {
      "image/png": "[encoded data removed]",
      "text/plain": [
       "<Figure size 432x288 with 1 Axes>"
      ]
     },
     "metadata": {
      "needs_background": "light"
     },
     "output_type": "display_data"
    }
   ],
   "source": [
    "data[\"Inflation, GDP deflator (annual %)\"].plot(kind=\"hist\")"
   ]
  },
  {
   "cell_type": "code",
   "execution_count": 22,
   "metadata": {},
   "outputs": [
    {
     "data": {
      "text/plain": [
       "<AxesSubplot:>"
      ]
     },
     "execution_count": 22,
     "metadata": {},
     "output_type": "execute_result"
    },
    {
     "data": {
      "image/png": "[encoded data removed]",
      "text/plain": [
       "<Figure size 432x288 with 1 Axes>"
      ]
     },
     "metadata": {
      "needs_background": "light"
     },
     "output_type": "display_data"
    }
   ],
   "source": [
    "data[\"Inflation, GDP deflator (annual %)\"].plot(kind=\"box\", vert=False)"
   ]
  },
  {
   "cell_type": "code",
   "execution_count": 23,
   "metadata": {},
   "outputs": [
    {
     "data": {
      "text/plain": [
       "<AxesSubplot:ylabel='Density'>"
      ]
     },
     "execution_count": 23,
     "metadata": {},
     "output_type": "execute_result"
    },
    {
     "data": {
      "image/png": "[encoded data removed]",
      "text/plain": [
       "<Figure size 432x288 with 1 Axes>"
      ]
     },
     "metadata": {
      "needs_background": "light"
     },
     "output_type": "display_data"
    }
   ],
   "source": [
    "data[\"Inflation, GDP deflator (annual %)\"].plot(kind=\"density\")"
   ]
  },
  {
   "cell_type": "code",
   "execution_count": 24,
   "metadata": {},
   "outputs": [
    {
     "data": {
      "text/plain": [
       "<AxesSubplot:ylabel='Frequency'>"
      ]
     },
     "execution_count": 24,
     "metadata": {},
     "output_type": "execute_result"
    },
    {
     "data": {
      "image/png": "[encoded data removed]",
      "text/plain": [
       "<Figure size 432x288 with 1 Axes>"
      ]
     },
     "metadata": {
      "needs_background": "light"
     },
     "output_type": "display_data"
    }
   ],
   "source": [
    "data[\"Inflation, consumer prices (annual %)\"].plot(kind=\"hist\")"
   ]
  },
  {
   "cell_type": "code",
   "execution_count": 25,
   "metadata": {},
   "outputs": [
    {
     "data": {
      "text/plain": [
       "<AxesSubplot:>"
      ]
     },
     "execution_count": 25,
     "metadata": {},
     "output_type": "execute_result"
    },
    {
     "data": {
      "image/png": "[encoded data removed]",
      "text/plain": [
       "<Figure size 432x288 with 1 Axes>"
      ]
     },
     "metadata": {
      "needs_background": "light"
     },
     "output_type": "display_data"
    }
   ],
   "source": [
    "data[\"Inflation, consumer prices (annual %)\"].plot(kind=\"box\", vert=False)"
   ]
  },
  {
   "cell_type": "code",
   "execution_count": 26,
   "metadata": {},
   "outputs": [
    {
     "data": {
      "text/plain": [
       "<AxesSubplot:ylabel='Density'>"
      ]
     },
     "execution_count": 26,
     "metadata": {},
     "output_type": "execute_result"
    },
    {
     "data": {
      "image/png": "[encoded data removed]",
      "text/plain": [
       "<Figure size 432x288 with 1 Axes>"
      ]
     },
     "metadata": {
      "needs_background": "light"
     },
     "output_type": "display_data"
    }
   ],
   "source": [
    "data[\"Inflation, consumer prices (annual %)\"].plot(kind=\"density\")"
   ]
  },
  {
   "cell_type": "code",
   "execution_count": 27,
   "metadata": {},
   "outputs": [
    {
     "name": "stdout",
     "output_type": "stream",
     "text": [
      "   Inflation, consumer prices (annual %) (mean) : 5.536586813046186\n",
      "                   GDP growth (annual %) (mean) : 4.110422674748121\n"
     ]
    }
   ],
   "source": [
    "for column in [\"Inflation, consumer prices (annual %)\", \"GDP growth (annual %)\"]:\n",
    "    print(f\"{column.rjust(40)} (mean) : {data[column].mean()}\")"
   ]
  },
  {
   "cell_type": "code",
   "execution_count": 28,
   "metadata": {},
   "outputs": [
    {
     "name": "stdout",
     "output_type": "stream",
     "text": [
      "   Inflation, consumer prices (annual %) (variance) : 13.81413206489865\n",
      "                   GDP growth (annual %) (variance) : 11.36833833585073\n"
     ]
    }
   ],
   "source": [
    "for column in [\"Inflation, consumer prices (annual %)\", \"GDP growth (annual %)\"]:\n",
    "    print(f\"{column.rjust(40)} (variance) : {data[column].var()}\")"
   ]
  },
  {
   "cell_type": "code",
   "execution_count": 29,
   "metadata": {},
   "outputs": [
    {
     "data": {
      "text/plain": [
       "Ttest_indResult(statistic=1.5823450489463158, pvalue=0.11882831595888793)"
      ]
     },
     "execution_count": 29,
     "metadata": {},
     "output_type": "execute_result"
    }
   ],
   "source": [
    "result = st.ttest_ind(data[\"Inflation, consumer prices (annual %)\"], data[\"GDP growth (annual %)\"])\n",
    "result"
   ]
  },
  {
   "cell_type": "code",
   "execution_count": 30,
   "metadata": {},
   "outputs": [
    {
     "data": {
      "text/plain": [
       "True"
      ]
     },
     "execution_count": 30,
     "metadata": {},
     "output_type": "execute_result"
    }
   ],
   "source": [
    "result.pvalue >= 0.05"
   ]
  },
  {
   "cell_type": "code",
   "execution_count": 31,
   "metadata": {},
   "outputs": [
    {
     "data": {
      "text/plain": [
       "F_onewayResult(statistic=2.503815853924911, pvalue=0.11882831595888826)"
      ]
     },
     "execution_count": 31,
     "metadata": {},
     "output_type": "execute_result"
    }
   ],
   "source": [
    "result = st.f_oneway(data[\"Inflation, consumer prices (annual %)\"], data[\"GDP growth (annual %)\"])\n",
    "result"
   ]
  },
  {
   "cell_type": "code",
   "execution_count": 32,
   "metadata": {},
   "outputs": [
    {
     "data": {
      "text/plain": [
       "True"
      ]
     },
     "execution_count": 32,
     "metadata": {},
     "output_type": "execute_result"
    }
   ],
   "source": [
    "result.pvalue >= 0.05"
   ]
  },
  {
   "cell_type": "code",
   "execution_count": 33,
   "metadata": {},
   "outputs": [
    {
     "name": "stdout",
     "output_type": "stream",
     "text": [
      "                   GDP growth (annual %) (mean) : 4.110422674748121\n",
      "      Inflation, GDP deflator (annual %) (mean) : 5.845441290204039\n",
      "   Inflation, consumer prices (annual %) (mean) : 5.536586813046186\n",
      "            Population growth (annual %) (mean) : 1.9246994063800957\n"
     ]
    }
   ],
   "source": [
    "for column in [\"GDP growth (annual %)\", \"Inflation, GDP deflator (annual %)\", \"Inflation, consumer prices (annual %)\", \"Population growth (annual %)\"]:\n",
    "    print(f\"{column.rjust(40)} (mean) : {data[column].mean()}\")"
   ]
  },
  {
   "cell_type": "code",
   "execution_count": 34,
   "metadata": {},
   "outputs": [
    {
     "name": "stdout",
     "output_type": "stream",
     "text": [
      "                   GDP growth (annual %) (variance) : 11.36833833585073\n",
      "      Inflation, GDP deflator (annual %) (variance) : 22.51397439283293\n",
      "   Inflation, consumer prices (annual %) (variance) : 13.81413206489865\n",
      "            Population growth (annual %) (variance) : 0.13471410355549548\n"
     ]
    }
   ],
   "source": [
    "for column in [\"GDP growth (annual %)\", \"Inflation, GDP deflator (annual %)\", \"Inflation, consumer prices (annual %)\", \"Population growth (annual %)\"]:\n",
    "    print(f\"{column.rjust(40)} (variance) : {data[column].var()}\")"
   ]
  },
  {
   "cell_type": "code",
   "execution_count": 35,
   "metadata": {},
   "outputs": [
    {
     "data": {
      "text/plain": [
       "F_onewayResult(statistic=8.281796106117323, pvalue=4.723620800370351e-05)"
      ]
     },
     "execution_count": 35,
     "metadata": {},
     "output_type": "execute_result"
    }
   ],
   "source": [
    "result = st.f_oneway(data[\"GDP growth (annual %)\"], data[\"Inflation, GDP deflator (annual %)\"], data[\"Inflation, consumer prices (annual %)\"], data[\"Population growth (annual %)\"])\n",
    "result"
   ]
  },
  {
   "cell_type": "code",
   "execution_count": 36,
   "metadata": {},
   "outputs": [
    {
     "data": {
      "text/plain": [
       "False"
      ]
     },
     "execution_count": 36,
     "metadata": {},
     "output_type": "execute_result"
    }
   ],
   "source": [
    "result.pvalue >= 0.05 "
   ]
  },
  {
   "cell_type": "code",
   "execution_count": 37,
   "metadata": {},
   "outputs": [
    {
     "data": {
      "text/plain": [
       "Text(0, 0.5, 'Inflation, GDP deflator (annual %)')"
      ]
     },
     "execution_count": 37,
     "metadata": {},
     "output_type": "execute_result"
    },
    {
     "data": {
      "image/png": "[encoded data removed]",
      "text/plain": [
       "<Figure size 432x288 with 1 Axes>"
      ]
     },
     "metadata": {
      "needs_background": "light"
     },
     "output_type": "display_data"
    }
   ],
   "source": [
    "plt.scatter(data[\"GDP growth (annual %)\"], data[\"Inflation, GDP deflator (annual %)\"])\n",
    "plt.xlabel(\"GDP growth (annual %)\")\n",
    "plt.ylabel(\"Inflation, GDP deflator (annual %)\")"
   ]
  },
  {
   "cell_type": "code",
   "execution_count": 38,
   "metadata": {},
   "outputs": [],
   "source": [
    "corr_cov_columns = [\n",
    "    \"GDP growth (annual %)\",\n",
    "    \"Inflation, GDP deflator (annual %)\",\n",
    "    \"Inflation, consumer prices (annual %)\",\n",
    "    \"Population growth (annual %)\"\n",
    "]"
   ]
  },
  {
   "cell_type": "code",
   "execution_count": 39,
   "metadata": {},
   "outputs": [
    {
     "data": {
      "text/html": [
       "<div>\n",
       "<style scoped>\n",
       "    .dataframe tbody tr th:only-of-type {\n",
       "        vertical-align: middle;\n",
       "    }\n",
       "\n",
       "    .dataframe tbody tr th {\n",
       "        vertical-align: top;\n",
       "    }\n",
       "\n",
       "    .dataframe thead th {\n",
       "        text-align: right;\n",
       "    }\n",
       "</style>\n",
       "<table border=\"1\" class=\"dataframe\">\n",
       "  <thead>\n",
       "    <tr style=\"text-align: right;\">\n",
       "      <th></th>\n",
       "      <th>GDP growth (annual %)</th>\n",
       "      <th>Inflation, GDP deflator (annual %)</th>\n",
       "      <th>Inflation, consumer prices (annual %)</th>\n",
       "      <th>Population growth (annual %)</th>\n",
       "    </tr>\n",
       "  </thead>\n",
       "  <tbody>\n",
       "    <tr>\n",
       "      <th>0</th>\n",
       "      <td>3.036966</td>\n",
       "      <td>12.971281</td>\n",
       "      <td>12.177352</td>\n",
       "      <td>2.543417</td>\n",
       "    </tr>\n",
       "    <tr>\n",
       "      <th>1</th>\n",
       "      <td>-0.578335</td>\n",
       "      <td>16.526880</td>\n",
       "      <td>19.261459</td>\n",
       "      <td>2.488547</td>\n",
       "    </tr>\n",
       "    <tr>\n",
       "      <th>2</th>\n",
       "      <td>0.337603</td>\n",
       "      <td>7.932658</td>\n",
       "      <td>8.651004</td>\n",
       "      <td>2.436922</td>\n",
       "    </tr>\n",
       "    <tr>\n",
       "      <th>3</th>\n",
       "      <td>2.116307</td>\n",
       "      <td>6.832158</td>\n",
       "      <td>6.716311</td>\n",
       "      <td>2.391622</td>\n",
       "    </tr>\n",
       "    <tr>\n",
       "      <th>4</th>\n",
       "      <td>4.387623</td>\n",
       "      <td>9.991315</td>\n",
       "      <td>10.386473</td>\n",
       "      <td>2.355063</td>\n",
       "    </tr>\n",
       "  </tbody>\n",
       "</table>\n",
       "</div>"
      ],
      "text/plain": [
       "   GDP growth (annual %)  Inflation, GDP deflator (annual %)  \\\n",
       "0               3.036966                           12.971281   \n",
       "1              -0.578335                           16.526880   \n",
       "2               0.337603                            7.932658   \n",
       "3               2.116307                            6.832158   \n",
       "4               4.387623                            9.991315   \n",
       "\n",
       "   Inflation, consumer prices (annual %)  Population growth (annual %)  \n",
       "0                              12.177352                      2.543417  \n",
       "1                              19.261459                      2.488547  \n",
       "2                               8.651004                      2.436922  \n",
       "3                               6.716311                      2.391622  \n",
       "4                              10.386473                      2.355063  "
      ]
     },
     "execution_count": 39,
     "metadata": {},
     "output_type": "execute_result"
    }
   ],
   "source": [
    "data[corr_cov_columns].head()"
   ]
  },
  {
   "cell_type": "code",
   "execution_count": 40,
   "metadata": {},
   "outputs": [
    {
     "data": {
      "text/html": [
       "<div>\n",
       "<style scoped>\n",
       "    .dataframe tbody tr th:only-of-type {\n",
       "        vertical-align: middle;\n",
       "    }\n",
       "\n",
       "    .dataframe tbody tr th {\n",
       "        vertical-align: top;\n",
       "    }\n",
       "\n",
       "    .dataframe thead th {\n",
       "        text-align: right;\n",
       "    }\n",
       "</style>\n",
       "<table border=\"1\" class=\"dataframe\">\n",
       "  <thead>\n",
       "    <tr style=\"text-align: right;\">\n",
       "      <th></th>\n",
       "      <th>GDP growth (annual %)</th>\n",
       "      <th>Inflation, GDP deflator (annual %)</th>\n",
       "      <th>Inflation, consumer prices (annual %)</th>\n",
       "      <th>Population growth (annual %)</th>\n",
       "    </tr>\n",
       "  </thead>\n",
       "  <tbody>\n",
       "    <tr>\n",
       "      <th>GDP growth (annual %)</th>\n",
       "      <td>1.000000</td>\n",
       "      <td>-0.347313</td>\n",
       "      <td>-0.336563</td>\n",
       "      <td>-0.185787</td>\n",
       "    </tr>\n",
       "    <tr>\n",
       "      <th>Inflation, GDP deflator (annual %)</th>\n",
       "      <td>-0.347313</td>\n",
       "      <td>1.000000</td>\n",
       "      <td>0.816096</td>\n",
       "      <td>0.712900</td>\n",
       "    </tr>\n",
       "    <tr>\n",
       "      <th>Inflation, consumer prices (annual %)</th>\n",
       "      <td>-0.336563</td>\n",
       "      <td>0.816096</td>\n",
       "      <td>1.000000</td>\n",
       "      <td>0.686586</td>\n",
       "    </tr>\n",
       "    <tr>\n",
       "      <th>Population growth (annual %)</th>\n",
       "      <td>-0.185787</td>\n",
       "      <td>0.712900</td>\n",
       "      <td>0.686586</td>\n",
       "      <td>1.000000</td>\n",
       "    </tr>\n",
       "  </tbody>\n",
       "</table>\n",
       "</div>"
      ],
      "text/plain": [
       "                                       GDP growth (annual %)  \\\n",
       "GDP growth (annual %)                               1.000000   \n",
       "Inflation, GDP deflator (annual %)                 -0.347313   \n",
       "Inflation, consumer prices (annual %)              -0.336563   \n",
       "Population growth (annual %)                       -0.185787   \n",
       "\n",
       "                                       Inflation, GDP deflator (annual %)  \\\n",
       "GDP growth (annual %)                                           -0.347313   \n",
       "Inflation, GDP deflator (annual %)                               1.000000   \n",
       "Inflation, consumer prices (annual %)                            0.816096   \n",
       "Population growth (annual %)                                     0.712900   \n",
       "\n",
       "                                       Inflation, consumer prices (annual %)  \\\n",
       "GDP growth (annual %)                                              -0.336563   \n",
       "Inflation, GDP deflator (annual %)                                  0.816096   \n",
       "Inflation, consumer prices (annual %)                               1.000000   \n",
       "Population growth (annual %)                                        0.686586   \n",
       "\n",
       "                                       Population growth (annual %)  \n",
       "GDP growth (annual %)                                     -0.185787  \n",
       "Inflation, GDP deflator (annual %)                         0.712900  \n",
       "Inflation, consumer prices (annual %)                      0.686586  \n",
       "Population growth (annual %)                               1.000000  "
      ]
     },
     "execution_count": 40,
     "metadata": {},
     "output_type": "execute_result"
    }
   ],
   "source": [
    "data[corr_cov_columns].corr()"
   ]
  },
  {
   "cell_type": "code",
   "execution_count": 41,
   "metadata": {},
   "outputs": [
    {
     "data": {
      "text/html": [
       "<div>\n",
       "<style scoped>\n",
       "    .dataframe tbody tr th:only-of-type {\n",
       "        vertical-align: middle;\n",
       "    }\n",
       "\n",
       "    .dataframe tbody tr th {\n",
       "        vertical-align: top;\n",
       "    }\n",
       "\n",
       "    .dataframe thead th {\n",
       "        text-align: right;\n",
       "    }\n",
       "</style>\n",
       "<table border=\"1\" class=\"dataframe\">\n",
       "  <thead>\n",
       "    <tr style=\"text-align: right;\">\n",
       "      <th></th>\n",
       "      <th>GDP growth (annual %)</th>\n",
       "      <th>Inflation, GDP deflator (annual %)</th>\n",
       "      <th>Inflation, consumer prices (annual %)</th>\n",
       "      <th>Population growth (annual %)</th>\n",
       "    </tr>\n",
       "  </thead>\n",
       "  <tbody>\n",
       "    <tr>\n",
       "      <th>GDP growth (annual %)</th>\n",
       "      <td>11.368338</td>\n",
       "      <td>-5.556431</td>\n",
       "      <td>-4.217711</td>\n",
       "      <td>-0.229917</td>\n",
       "    </tr>\n",
       "    <tr>\n",
       "      <th>Inflation, GDP deflator (annual %)</th>\n",
       "      <td>-5.556431</td>\n",
       "      <td>22.513974</td>\n",
       "      <td>14.392273</td>\n",
       "      <td>1.241541</td>\n",
       "    </tr>\n",
       "    <tr>\n",
       "      <th>Inflation, consumer prices (annual %)</th>\n",
       "      <td>-4.217711</td>\n",
       "      <td>14.392273</td>\n",
       "      <td>13.814132</td>\n",
       "      <td>0.936620</td>\n",
       "    </tr>\n",
       "    <tr>\n",
       "      <th>Population growth (annual %)</th>\n",
       "      <td>-0.229917</td>\n",
       "      <td>1.241541</td>\n",
       "      <td>0.936620</td>\n",
       "      <td>0.134714</td>\n",
       "    </tr>\n",
       "  </tbody>\n",
       "</table>\n",
       "</div>"
      ],
      "text/plain": [
       "                                       GDP growth (annual %)  \\\n",
       "GDP growth (annual %)                              11.368338   \n",
       "Inflation, GDP deflator (annual %)                 -5.556431   \n",
       "Inflation, consumer prices (annual %)              -4.217711   \n",
       "Population growth (annual %)                       -0.229917   \n",
       "\n",
       "                                       Inflation, GDP deflator (annual %)  \\\n",
       "GDP growth (annual %)                                           -5.556431   \n",
       "Inflation, GDP deflator (annual %)                              22.513974   \n",
       "Inflation, consumer prices (annual %)                           14.392273   \n",
       "Population growth (annual %)                                     1.241541   \n",
       "\n",
       "                                       Inflation, consumer prices (annual %)  \\\n",
       "GDP growth (annual %)                                              -4.217711   \n",
       "Inflation, GDP deflator (annual %)                                 14.392273   \n",
       "Inflation, consumer prices (annual %)                              13.814132   \n",
       "Population growth (annual %)                                        0.936620   \n",
       "\n",
       "                                       Population growth (annual %)  \n",
       "GDP growth (annual %)                                     -0.229917  \n",
       "Inflation, GDP deflator (annual %)                         1.241541  \n",
       "Inflation, consumer prices (annual %)                      0.936620  \n",
       "Population growth (annual %)                               0.134714  "
      ]
     },
     "execution_count": 41,
     "metadata": {},
     "output_type": "execute_result"
    }
   ],
   "source": [
    "data[corr_cov_columns].cov()"
   ]
  },
  {
   "cell_type": "code",
   "execution_count": 42,
   "metadata": {},
   "outputs": [
    {
     "data": {
      "text/plain": [
       "<matplotlib.legend.Legend at 0x7f1b6b2118b0>"
      ]
     },
     "execution_count": 42,
     "metadata": {},
     "output_type": "execute_result"
    },
    {
     "data": {
      "image/png": "[encoded data removed]",
      "text/plain": [
       "<Figure size 432x288 with 1 Axes>"
      ]
     },
     "metadata": {
      "needs_background": "light"
     },
     "output_type": "display_data"
    }
   ],
   "source": [
    "plt.plot(data[\"Years\"], data[[\"Exports of goods and services (% of GDP)\", \"Imports of goods and services (% of GDP)\"]])\n",
    "plt.xlabel(\"Years\")\n",
    "plt.legend([\"Exports of goods and services (% of GDP)\", \"Imports of goods and services (% of GDP)\"])"
   ]
  },
  {
   "cell_type": "code",
   "execution_count": 43,
   "metadata": {},
   "outputs": [
    {
     "data": {
      "text/plain": [
       "count    31.000000\n",
       "mean      0.919714\n",
       "std       0.162407\n",
       "min       0.636043\n",
       "25%       0.841464\n",
       "50%       0.900950\n",
       "75%       0.969059\n",
       "max       1.333691\n",
       "Name: CO2 emissions (metric tons per capita), dtype: float64"
      ]
     },
     "execution_count": 43,
     "metadata": {},
     "output_type": "execute_result"
    }
   ],
   "source": [
    "data[\"CO2 emissions (metric tons per capita)\"].describe()"
   ]
  },
  {
   "cell_type": "code",
   "execution_count": 44,
   "metadata": {},
   "outputs": [
    {
     "data": {
      "text/plain": [
       "Text(0, 0.5, 'CO2 emissions (metric tons per capita)')"
      ]
     },
     "execution_count": 44,
     "metadata": {},
     "output_type": "execute_result"
    },
    {
     "data": {
      "image/png": "[encoded data removed]",
      "text/plain": [
       "<Figure size 432x288 with 1 Axes>"
      ]
     },
     "metadata": {
      "needs_background": "light"
     },
     "output_type": "display_data"
    }
   ],
   "source": [
    "plt.plot(data[\"Years\"], data[\"CO2 emissions (metric tons per capita)\"])\n",
    "plt.xlabel(\"Years\")\n",
    "plt.ylabel(\"CO2 emissions (metric tons per capita)\")"
   ]
  },
  {
   "cell_type": "code",
   "execution_count": 45,
   "metadata": {},
   "outputs": [],
   "source": [
    "req_columns = [\n",
    "    \"Population growth (annual %)\",\n",
    "    \"CO2 emissions (metric tons per capita)\", \n",
    "    \"GDP growth (annual %)\", \n",
    "    \"Industry (including construction), value added (% of GDP)\", \n",
    "    \"Exports of goods and services (% of GDP)\", \n",
    "    \"Imports of goods and services (% of GDP)\", \n",
    "    \"Gross capital formation (% of GDP)\", \n",
    "    \"Inflation, consumer prices (annual %)\"\n",
    "]\n",
    "\n",
    "models_data = data[req_columns]"
   ]
  },
  {
   "cell_type": "code",
   "execution_count": 46,
   "metadata": {},
   "outputs": [
    {
     "data": {
      "text/html": [
       "<div>\n",
       "<style scoped>\n",
       "    .dataframe tbody tr th:only-of-type {\n",
       "        vertical-align: middle;\n",
       "    }\n",
       "\n",
       "    .dataframe tbody tr th {\n",
       "        vertical-align: top;\n",
       "    }\n",
       "\n",
       "    .dataframe thead th {\n",
       "        text-align: right;\n",
       "    }\n",
       "</style>\n",
       "<table border=\"1\" class=\"dataframe\">\n",
       "  <thead>\n",
       "    <tr style=\"text-align: right;\">\n",
       "      <th></th>\n",
       "      <th>Population growth (annual %)</th>\n",
       "      <th>CO2 emissions (metric tons per capita)</th>\n",
       "      <th>GDP growth (annual %)</th>\n",
       "      <th>Industry (including construction), value added (% of GDP)</th>\n",
       "      <th>Exports of goods and services (% of GDP)</th>\n",
       "      <th>Imports of goods and services (% of GDP)</th>\n",
       "      <th>Gross capital formation (% of GDP)</th>\n",
       "      <th>Inflation, consumer prices (annual %)</th>\n",
       "    </tr>\n",
       "  </thead>\n",
       "  <tbody>\n",
       "    <tr>\n",
       "      <th>0</th>\n",
       "      <td>2.543417</td>\n",
       "      <td>0.659825</td>\n",
       "      <td>3.036966</td>\n",
       "      <td>34.472173</td>\n",
       "      <td>27.516229</td>\n",
       "      <td>33.284041</td>\n",
       "      <td>24.151139</td>\n",
       "      <td>12.177352</td>\n",
       "    </tr>\n",
       "    <tr>\n",
       "      <th>1</th>\n",
       "      <td>2.488547</td>\n",
       "      <td>0.636043</td>\n",
       "      <td>-0.578335</td>\n",
       "      <td>34.014444</td>\n",
       "      <td>29.597255</td>\n",
       "      <td>32.587694</td>\n",
       "      <td>20.218331</td>\n",
       "      <td>19.261459</td>\n",
       "    </tr>\n",
       "    <tr>\n",
       "      <th>2</th>\n",
       "      <td>2.436922</td>\n",
       "      <td>0.672561</td>\n",
       "      <td>0.337603</td>\n",
       "      <td>32.837116</td>\n",
       "      <td>29.129768</td>\n",
       "      <td>34.028185</td>\n",
       "      <td>21.338395</td>\n",
       "      <td>8.651004</td>\n",
       "    </tr>\n",
       "    <tr>\n",
       "      <th>3</th>\n",
       "      <td>2.391622</td>\n",
       "      <td>0.712678</td>\n",
       "      <td>2.116307</td>\n",
       "      <td>32.683218</td>\n",
       "      <td>31.359612</td>\n",
       "      <td>39.806858</td>\n",
       "      <td>23.981371</td>\n",
       "      <td>6.716311</td>\n",
       "    </tr>\n",
       "    <tr>\n",
       "      <th>4</th>\n",
       "      <td>2.355063</td>\n",
       "      <td>0.755344</td>\n",
       "      <td>4.387623</td>\n",
       "      <td>32.529895</td>\n",
       "      <td>33.825694</td>\n",
       "      <td>40.133862</td>\n",
       "      <td>24.062809</td>\n",
       "      <td>10.386473</td>\n",
       "    </tr>\n",
       "  </tbody>\n",
       "</table>\n",
       "</div>"
      ],
      "text/plain": [
       "   Population growth (annual %)  CO2 emissions (metric tons per capita)  \\\n",
       "0                      2.543417                                0.659825   \n",
       "1                      2.488547                                0.636043   \n",
       "2                      2.436922                                0.672561   \n",
       "3                      2.391622                                0.712678   \n",
       "4                      2.355063                                0.755344   \n",
       "\n",
       "   GDP growth (annual %)  \\\n",
       "0               3.036966   \n",
       "1              -0.578335   \n",
       "2               0.337603   \n",
       "3               2.116307   \n",
       "4               4.387623   \n",
       "\n",
       "   Industry (including construction), value added (% of GDP)  \\\n",
       "0                                          34.472173           \n",
       "1                                          34.014444           \n",
       "2                                          32.837116           \n",
       "3                                          32.683218           \n",
       "4                                          32.529895           \n",
       "\n",
       "   Exports of goods and services (% of GDP)  \\\n",
       "0                                 27.516229   \n",
       "1                                 29.597255   \n",
       "2                                 29.129768   \n",
       "3                                 31.359612   \n",
       "4                                 33.825694   \n",
       "\n",
       "   Imports of goods and services (% of GDP)  \\\n",
       "0                                 33.284041   \n",
       "1                                 32.587694   \n",
       "2                                 34.028185   \n",
       "3                                 39.806858   \n",
       "4                                 40.133862   \n",
       "\n",
       "   Gross capital formation (% of GDP)  Inflation, consumer prices (annual %)  \n",
       "0                           24.151139                              12.177352  \n",
       "1                           20.218331                              19.261459  \n",
       "2                           21.338395                               8.651004  \n",
       "3                           23.981371                               6.716311  \n",
       "4                           24.062809                              10.386473  "
      ]
     },
     "execution_count": 46,
     "metadata": {},
     "output_type": "execute_result"
    }
   ],
   "source": [
    "models_data.head()"
   ]
  },
  {
   "cell_type": "code",
   "execution_count": 47,
   "metadata": {},
   "outputs": [
    {
     "data": {
      "text/html": [
       "<div>\n",
       "<style scoped>\n",
       "    .dataframe tbody tr th:only-of-type {\n",
       "        vertical-align: middle;\n",
       "    }\n",
       "\n",
       "    .dataframe tbody tr th {\n",
       "        vertical-align: top;\n",
       "    }\n",
       "\n",
       "    .dataframe thead th {\n",
       "        text-align: right;\n",
       "    }\n",
       "</style>\n",
       "<table border=\"1\" class=\"dataframe\">\n",
       "  <thead>\n",
       "    <tr style=\"text-align: right;\">\n",
       "      <th></th>\n",
       "      <th>Population growth (annual %)</th>\n",
       "      <th>CO2 emissions (metric tons per capita)</th>\n",
       "      <th>GDP growth (annual %)</th>\n",
       "      <th>Industry (including construction), value added (% of GDP)</th>\n",
       "      <th>Exports of goods and services (% of GDP)</th>\n",
       "      <th>Imports of goods and services (% of GDP)</th>\n",
       "      <th>Gross capital formation (% of GDP)</th>\n",
       "      <th>Inflation, consumer prices (annual %)</th>\n",
       "    </tr>\n",
       "  </thead>\n",
       "  <tbody>\n",
       "    <tr>\n",
       "      <th>count</th>\n",
       "      <td>31.000000</td>\n",
       "      <td>31.000000</td>\n",
       "      <td>31.000000</td>\n",
       "      <td>31.000000</td>\n",
       "      <td>31.000000</td>\n",
       "      <td>31.000000</td>\n",
       "      <td>31.000000</td>\n",
       "      <td>31.000000</td>\n",
       "    </tr>\n",
       "    <tr>\n",
       "      <th>mean</th>\n",
       "      <td>1.924699</td>\n",
       "      <td>0.919714</td>\n",
       "      <td>4.110423</td>\n",
       "      <td>32.410626</td>\n",
       "      <td>34.529131</td>\n",
       "      <td>39.188232</td>\n",
       "      <td>21.114802</td>\n",
       "      <td>5.536587</td>\n",
       "    </tr>\n",
       "    <tr>\n",
       "      <th>std</th>\n",
       "      <td>0.367034</td>\n",
       "      <td>0.162407</td>\n",
       "      <td>3.371697</td>\n",
       "      <td>1.677980</td>\n",
       "      <td>6.975496</td>\n",
       "      <td>7.445857</td>\n",
       "      <td>3.092329</td>\n",
       "      <td>3.716737</td>\n",
       "    </tr>\n",
       "    <tr>\n",
       "      <th>min</th>\n",
       "      <td>1.345430</td>\n",
       "      <td>0.636043</td>\n",
       "      <td>-9.573030</td>\n",
       "      <td>28.398128</td>\n",
       "      <td>25.188109</td>\n",
       "      <td>29.647361</td>\n",
       "      <td>15.684364</td>\n",
       "      <td>0.674193</td>\n",
       "    </tr>\n",
       "    <tr>\n",
       "      <th>25%</th>\n",
       "      <td>1.654911</td>\n",
       "      <td>0.841464</td>\n",
       "      <td>3.065574</td>\n",
       "      <td>31.193064</td>\n",
       "      <td>28.744174</td>\n",
       "      <td>33.108105</td>\n",
       "      <td>18.962682</td>\n",
       "      <td>2.876594</td>\n",
       "    </tr>\n",
       "    <tr>\n",
       "      <th>50%</th>\n",
       "      <td>1.889365</td>\n",
       "      <td>0.900950</td>\n",
       "      <td>4.942505</td>\n",
       "      <td>32.529895</td>\n",
       "      <td>32.874830</td>\n",
       "      <td>39.605079</td>\n",
       "      <td>20.731007</td>\n",
       "      <td>4.829211</td>\n",
       "    </tr>\n",
       "    <tr>\n",
       "      <th>75%</th>\n",
       "      <td>2.239151</td>\n",
       "      <td>0.969059</td>\n",
       "      <td>6.348149</td>\n",
       "      <td>33.716186</td>\n",
       "      <td>41.192770</td>\n",
       "      <td>43.792006</td>\n",
       "      <td>23.998598</td>\n",
       "      <td>6.774154</td>\n",
       "    </tr>\n",
       "    <tr>\n",
       "      <th>max</th>\n",
       "      <td>2.543417</td>\n",
       "      <td>1.333691</td>\n",
       "      <td>7.334500</td>\n",
       "      <td>34.975285</td>\n",
       "      <td>48.956482</td>\n",
       "      <td>59.293835</td>\n",
       "      <td>27.150582</td>\n",
       "      <td>19.261459</td>\n",
       "    </tr>\n",
       "  </tbody>\n",
       "</table>\n",
       "</div>"
      ],
      "text/plain": [
       "       Population growth (annual %)  CO2 emissions (metric tons per capita)  \\\n",
       "count                     31.000000                               31.000000   \n",
       "mean                       1.924699                                0.919714   \n",
       "std                        0.367034                                0.162407   \n",
       "min                        1.345430                                0.636043   \n",
       "25%                        1.654911                                0.841464   \n",
       "50%                        1.889365                                0.900950   \n",
       "75%                        2.239151                                0.969059   \n",
       "max                        2.543417                                1.333691   \n",
       "\n",
       "       GDP growth (annual %)  \\\n",
       "count              31.000000   \n",
       "mean                4.110423   \n",
       "std                 3.371697   \n",
       "min                -9.573030   \n",
       "25%                 3.065574   \n",
       "50%                 4.942505   \n",
       "75%                 6.348149   \n",
       "max                 7.334500   \n",
       "\n",
       "       Industry (including construction), value added (% of GDP)  \\\n",
       "count                                          31.000000           \n",
       "mean                                           32.410626           \n",
       "std                                             1.677980           \n",
       "min                                            28.398128           \n",
       "25%                                            31.193064           \n",
       "50%                                            32.529895           \n",
       "75%                                            33.716186           \n",
       "max                                            34.975285           \n",
       "\n",
       "       Exports of goods and services (% of GDP)  \\\n",
       "count                                 31.000000   \n",
       "mean                                  34.529131   \n",
       "std                                    6.975496   \n",
       "min                                   25.188109   \n",
       "25%                                   28.744174   \n",
       "50%                                   32.874830   \n",
       "75%                                   41.192770   \n",
       "max                                   48.956482   \n",
       "\n",
       "       Imports of goods and services (% of GDP)  \\\n",
       "count                                 31.000000   \n",
       "mean                                  39.188232   \n",
       "std                                    7.445857   \n",
       "min                                   29.647361   \n",
       "25%                                   33.108105   \n",
       "50%                                   39.605079   \n",
       "75%                                   43.792006   \n",
       "max                                   59.293835   \n",
       "\n",
       "       Gross capital formation (% of GDP)  \\\n",
       "count                           31.000000   \n",
       "mean                            21.114802   \n",
       "std                              3.092329   \n",
       "min                             15.684364   \n",
       "25%                             18.962682   \n",
       "50%                             20.731007   \n",
       "75%                             23.998598   \n",
       "max                             27.150582   \n",
       "\n",
       "       Inflation, consumer prices (annual %)  \n",
       "count                              31.000000  \n",
       "mean                                5.536587  \n",
       "std                                 3.716737  \n",
       "min                                 0.674193  \n",
       "25%                                 2.876594  \n",
       "50%                                 4.829211  \n",
       "75%                                 6.774154  \n",
       "max                                19.261459  "
      ]
     },
     "execution_count": 47,
     "metadata": {},
     "output_type": "execute_result"
    }
   ],
   "source": [
    "models_data.describe()"
   ]
  },
  {
   "cell_type": "code",
   "execution_count": 48,
   "metadata": {},
   "outputs": [
    {
     "data": {
      "text/html": [
       "<div>\n",
       "<style scoped>\n",
       "    .dataframe tbody tr th:only-of-type {\n",
       "        vertical-align: middle;\n",
       "    }\n",
       "\n",
       "    .dataframe tbody tr th {\n",
       "        vertical-align: top;\n",
       "    }\n",
       "\n",
       "    .dataframe thead th {\n",
       "        text-align: right;\n",
       "    }\n",
       "</style>\n",
       "<table border=\"1\" class=\"dataframe\">\n",
       "  <thead>\n",
       "    <tr style=\"text-align: right;\">\n",
       "      <th></th>\n",
       "      <th>Population growth (annual %)</th>\n",
       "      <th>CO2 emissions (metric tons per capita)</th>\n",
       "      <th>Industry (including construction), value added (% of GDP)</th>\n",
       "      <th>Exports of goods and services (% of GDP)</th>\n",
       "      <th>Imports of goods and services (% of GDP)</th>\n",
       "      <th>Gross capital formation (% of GDP)</th>\n",
       "      <th>Inflation, consumer prices (annual %)</th>\n",
       "    </tr>\n",
       "  </thead>\n",
       "  <tbody>\n",
       "    <tr>\n",
       "      <th>0</th>\n",
       "      <td>2.543417</td>\n",
       "      <td>0.659825</td>\n",
       "      <td>34.472173</td>\n",
       "      <td>27.516229</td>\n",
       "      <td>33.284041</td>\n",
       "      <td>24.151139</td>\n",
       "      <td>12.177352</td>\n",
       "    </tr>\n",
       "    <tr>\n",
       "      <th>1</th>\n",
       "      <td>2.488547</td>\n",
       "      <td>0.636043</td>\n",
       "      <td>34.014444</td>\n",
       "      <td>29.597255</td>\n",
       "      <td>32.587694</td>\n",
       "      <td>20.218331</td>\n",
       "      <td>19.261459</td>\n",
       "    </tr>\n",
       "    <tr>\n",
       "      <th>2</th>\n",
       "      <td>2.436922</td>\n",
       "      <td>0.672561</td>\n",
       "      <td>32.837116</td>\n",
       "      <td>29.129768</td>\n",
       "      <td>34.028185</td>\n",
       "      <td>21.338395</td>\n",
       "      <td>8.651004</td>\n",
       "    </tr>\n",
       "    <tr>\n",
       "      <th>3</th>\n",
       "      <td>2.391622</td>\n",
       "      <td>0.712678</td>\n",
       "      <td>32.683218</td>\n",
       "      <td>31.359612</td>\n",
       "      <td>39.806858</td>\n",
       "      <td>23.981371</td>\n",
       "      <td>6.716311</td>\n",
       "    </tr>\n",
       "    <tr>\n",
       "      <th>4</th>\n",
       "      <td>2.355063</td>\n",
       "      <td>0.755344</td>\n",
       "      <td>32.529895</td>\n",
       "      <td>33.825694</td>\n",
       "      <td>40.133862</td>\n",
       "      <td>24.062809</td>\n",
       "      <td>10.386473</td>\n",
       "    </tr>\n",
       "  </tbody>\n",
       "</table>\n",
       "</div>"
      ],
      "text/plain": [
       "   Population growth (annual %)  CO2 emissions (metric tons per capita)  \\\n",
       "0                      2.543417                                0.659825   \n",
       "1                      2.488547                                0.636043   \n",
       "2                      2.436922                                0.672561   \n",
       "3                      2.391622                                0.712678   \n",
       "4                      2.355063                                0.755344   \n",
       "\n",
       "   Industry (including construction), value added (% of GDP)  \\\n",
       "0                                          34.472173           \n",
       "1                                          34.014444           \n",
       "2                                          32.837116           \n",
       "3                                          32.683218           \n",
       "4                                          32.529895           \n",
       "\n",
       "   Exports of goods and services (% of GDP)  \\\n",
       "0                                 27.516229   \n",
       "1                                 29.597255   \n",
       "2                                 29.129768   \n",
       "3                                 31.359612   \n",
       "4                                 33.825694   \n",
       "\n",
       "   Imports of goods and services (% of GDP)  \\\n",
       "0                                 33.284041   \n",
       "1                                 32.587694   \n",
       "2                                 34.028185   \n",
       "3                                 39.806858   \n",
       "4                                 40.133862   \n",
       "\n",
       "   Gross capital formation (% of GDP)  Inflation, consumer prices (annual %)  \n",
       "0                           24.151139                              12.177352  \n",
       "1                           20.218331                              19.261459  \n",
       "2                           21.338395                               8.651004  \n",
       "3                           23.981371                               6.716311  \n",
       "4                           24.062809                              10.386473  "
      ]
     },
     "execution_count": 48,
     "metadata": {},
     "output_type": "execute_result"
    }
   ],
   "source": [
    "X = models_data.drop([\"GDP growth (annual %)\"], axis=1)\n",
    "X.head()"
   ]
  },
  {
   "cell_type": "code",
   "execution_count": 49,
   "metadata": {},
   "outputs": [
    {
     "data": {
      "text/plain": [
       "0    3.036966\n",
       "1   -0.578335\n",
       "2    0.337603\n",
       "3    2.116307\n",
       "4    4.387623\n",
       "Name: GDP growth (annual %), dtype: float64"
      ]
     },
     "execution_count": 49,
     "metadata": {},
     "output_type": "execute_result"
    }
   ],
   "source": [
    "y = models_data[\"GDP growth (annual %)\"]\n",
    "y.head()"
   ]
  },
  {
   "cell_type": "code",
   "execution_count": 50,
   "metadata": {},
   "outputs": [],
   "source": [
    "from sklearn.linear_model import LinearRegression\n",
    "\n",
    "regr = LinearRegression()\n",
    "regr_model = regr.fit(X, y)"
   ]
  },
  {
   "cell_type": "code",
   "execution_count": 51,
   "metadata": {},
   "outputs": [
    {
     "data": {
      "text/plain": [
       "0.8192488140892727"
      ]
     },
     "execution_count": 51,
     "metadata": {},
     "output_type": "execute_result"
    }
   ],
   "source": [
    "regr_model.score(X, y)"
   ]
  },
  {
   "cell_type": "code",
   "execution_count": 52,
   "metadata": {},
   "outputs": [
    {
     "data": {
      "text/plain": [
       "-21.675110382693415"
      ]
     },
     "execution_count": 52,
     "metadata": {},
     "output_type": "execute_result"
    }
   ],
   "source": [
    "regr_model.intercept_"
   ]
  },
  {
   "cell_type": "code",
   "execution_count": 53,
   "metadata": {},
   "outputs": [
    {
     "name": "stdout",
     "output_type": "stream",
     "text": [
      "                                Population growth (annual %) : 0.6670908426271049\n",
      "                      CO2 emissions (metric tons per capita) : 2.4560505769755516\n",
      "   Industry (including construction), value added (% of GDP) : -0.5502385172722519\n",
      "                    Exports of goods and services (% of GDP) : 1.7711850983493036\n",
      "                    Imports of goods and services (% of GDP) : -1.5788362290584015\n",
      "                          Gross capital formation (% of GDP) : 2.0207181476354537\n",
      "                       Inflation, consumer prices (annual %) : -0.33891833759719014\n"
     ]
    }
   ],
   "source": [
    "for column, coefficient in zip(X.columns, regr_model.coef_):\n",
    "    print(f\"{column.rjust(60)} : {coefficient}\")"
   ]
  },
  {
   "cell_type": "code",
   "execution_count": 54,
   "metadata": {},
   "outputs": [
    {
     "data": {
      "text/plain": [
       "1.410161499343845"
      ]
     },
     "execution_count": 54,
     "metadata": {},
     "output_type": "execute_result"
    }
   ],
   "source": [
    "predictions = regr_model.predict(X)\n",
    "residual    = y - predictions\n",
    "\n",
    "(residual ** 2).mean() ** 0.5 # RMSE"
   ]
  },
  {
   "cell_type": "code",
   "execution_count": 55,
   "metadata": {},
   "outputs": [],
   "source": [
    "from sklearn.tree import DecisionTreeRegressor\n",
    "\n",
    "regr = DecisionTreeRegressor(max_depth=3)\n",
    "regr_model = regr.fit(X, y)"
   ]
  },
  {
   "cell_type": "code",
   "execution_count": 56,
   "metadata": {},
   "outputs": [
    {
     "data": {
      "text/plain": [
       "0.8750328662604674"
      ]
     },
     "execution_count": 56,
     "metadata": {},
     "output_type": "execute_result"
    }
   ],
   "source": [
    "regr_model.score(X, y)"
   ]
  },
  {
   "cell_type": "code",
   "execution_count": 57,
   "metadata": {},
   "outputs": [
    {
     "data": {
      "text/plain": [
       "1.172535984954027"
      ]
     },
     "execution_count": 57,
     "metadata": {},
     "output_type": "execute_result"
    }
   ],
   "source": [
    "predictions = regr_model.predict(X)\n",
    "residual    = y - predictions\n",
    "\n",
    "(residual ** 2).mean() ** 0.5 # RMSE"
   ]
  },
  {
   "cell_type": "code",
   "execution_count": 58,
   "metadata": {},
   "outputs": [],
   "source": [
    "from sklearn.ensemble import RandomForestRegressor\n",
    "\n",
    "regr = RandomForestRegressor(n_estimators=300)\n",
    "regr_model = regr.fit(X, y)"
   ]
  },
  {
   "cell_type": "code",
   "execution_count": 59,
   "metadata": {},
   "outputs": [
    {
     "data": {
      "text/plain": [
       "0.851446307195988"
      ]
     },
     "execution_count": 59,
     "metadata": {},
     "output_type": "execute_result"
    }
   ],
   "source": [
    "regr_model.score(X, y)"
   ]
  },
  {
   "cell_type": "code",
   "execution_count": 60,
   "metadata": {},
   "outputs": [
    {
     "data": {
      "text/plain": [
       "1.2784095363945611"
      ]
     },
     "execution_count": 60,
     "metadata": {},
     "output_type": "execute_result"
    }
   ],
   "source": [
    "predictions = regr_model.predict(X)\n",
    "residual    = y - predictions\n",
    "\n",
    "(residual ** 2).mean() ** 0.5 # RMSE"
   ]
  },
  {
   "cell_type": "code",
   "execution_count": 61,
   "metadata": {},
   "outputs": [],
   "source": [
    "healthcare_indicators = [\n",
    "    \"Life expectancy at birth, total (years)\",\n",
    "    \"Fertility rate, total (births per woman)\",\n",
    "    \"Adolescent fertility rate (births per 1,000 women ages 15-19)\",\n",
    "    \"Contraceptive prevalence, any methods (% of women ages 15-49)\",\n",
    "    \"Births attended by skilled health staff (% of total)\",\n",
    "    \"Mortality rate, under-5 (per 1,000 live births)\",\n",
    "    \"Prevalence of underweight, weight for age (% of children under 5)\",\n",
    "    \"Immunization, measles (% of children ages 12-23 months)\",\n",
    "    \"Prevalence of HIV, total (% of population ages 15-49)\"\n",
    "]\n",
    "\n",
    "healthcare_data = data[healthcare_indicators]"
   ]
  },
  {
   "cell_type": "code",
   "execution_count": 62,
   "metadata": {},
   "outputs": [
    {
     "data": {
      "text/html": [
       "<div>\n",
       "<style scoped>\n",
       "    .dataframe tbody tr th:only-of-type {\n",
       "        vertical-align: middle;\n",
       "    }\n",
       "\n",
       "    .dataframe tbody tr th {\n",
       "        vertical-align: top;\n",
       "    }\n",
       "\n",
       "    .dataframe thead th {\n",
       "        text-align: right;\n",
       "    }\n",
       "</style>\n",
       "<table border=\"1\" class=\"dataframe\">\n",
       "  <thead>\n",
       "    <tr style=\"text-align: right;\">\n",
       "      <th></th>\n",
       "      <th>Life expectancy at birth, total (years)</th>\n",
       "      <th>Fertility rate, total (births per woman)</th>\n",
       "      <th>Adolescent fertility rate (births per 1,000 women ages 15-19)</th>\n",
       "      <th>Contraceptive prevalence, any methods (% of women ages 15-49)</th>\n",
       "      <th>Births attended by skilled health staff (% of total)</th>\n",
       "      <th>Mortality rate, under-5 (per 1,000 live births)</th>\n",
       "      <th>Prevalence of underweight, weight for age (% of children under 5)</th>\n",
       "      <th>Immunization, measles (% of children ages 12-23 months)</th>\n",
       "      <th>Prevalence of HIV, total (% of population ages 15-49)</th>\n",
       "    </tr>\n",
       "  </thead>\n",
       "  <tbody>\n",
       "    <tr>\n",
       "      <th>0</th>\n",
       "      <td>66.366</td>\n",
       "      <td>4.320</td>\n",
       "      <td>50.6196</td>\n",
       "      <td>49.123529</td>\n",
       "      <td>64.066667</td>\n",
       "      <td>56.6</td>\n",
       "      <td>29.90</td>\n",
       "      <td>85.0</td>\n",
       "      <td>0.1</td>\n",
       "    </tr>\n",
       "    <tr>\n",
       "      <th>1</th>\n",
       "      <td>66.811</td>\n",
       "      <td>4.246</td>\n",
       "      <td>50.8028</td>\n",
       "      <td>49.123529</td>\n",
       "      <td>64.066667</td>\n",
       "      <td>53.3</td>\n",
       "      <td>23.62</td>\n",
       "      <td>83.0</td>\n",
       "      <td>0.1</td>\n",
       "    </tr>\n",
       "    <tr>\n",
       "      <th>2</th>\n",
       "      <td>67.239</td>\n",
       "      <td>4.177</td>\n",
       "      <td>50.9860</td>\n",
       "      <td>49.123529</td>\n",
       "      <td>64.066667</td>\n",
       "      <td>50.4</td>\n",
       "      <td>29.80</td>\n",
       "      <td>81.0</td>\n",
       "      <td>0.1</td>\n",
       "    </tr>\n",
       "    <tr>\n",
       "      <th>3</th>\n",
       "      <td>67.628</td>\n",
       "      <td>4.113</td>\n",
       "      <td>50.6012</td>\n",
       "      <td>40.000000</td>\n",
       "      <td>52.800000</td>\n",
       "      <td>47.8</td>\n",
       "      <td>26.30</td>\n",
       "      <td>78.0</td>\n",
       "      <td>0.1</td>\n",
       "    </tr>\n",
       "    <tr>\n",
       "      <th>4</th>\n",
       "      <td>67.962</td>\n",
       "      <td>4.056</td>\n",
       "      <td>50.2164</td>\n",
       "      <td>49.123529</td>\n",
       "      <td>64.066667</td>\n",
       "      <td>45.6</td>\n",
       "      <td>23.62</td>\n",
       "      <td>75.0</td>\n",
       "      <td>0.1</td>\n",
       "    </tr>\n",
       "  </tbody>\n",
       "</table>\n",
       "</div>"
      ],
      "text/plain": [
       "   Life expectancy at birth, total (years)  \\\n",
       "0                                   66.366   \n",
       "1                                   66.811   \n",
       "2                                   67.239   \n",
       "3                                   67.628   \n",
       "4                                   67.962   \n",
       "\n",
       "   Fertility rate, total (births per woman)  \\\n",
       "0                                     4.320   \n",
       "1                                     4.246   \n",
       "2                                     4.177   \n",
       "3                                     4.113   \n",
       "4                                     4.056   \n",
       "\n",
       "   Adolescent fertility rate (births per 1,000 women ages 15-19)  \\\n",
       "0                                            50.6196               \n",
       "1                                            50.8028               \n",
       "2                                            50.9860               \n",
       "3                                            50.6012               \n",
       "4                                            50.2164               \n",
       "\n",
       "   Contraceptive prevalence, any methods (% of women ages 15-49)  \\\n",
       "0                                          49.123529               \n",
       "1                                          49.123529               \n",
       "2                                          49.123529               \n",
       "3                                          40.000000               \n",
       "4                                          49.123529               \n",
       "\n",
       "   Births attended by skilled health staff (% of total)  \\\n",
       "0                                          64.066667      \n",
       "1                                          64.066667      \n",
       "2                                          64.066667      \n",
       "3                                          52.800000      \n",
       "4                                          64.066667      \n",
       "\n",
       "   Mortality rate, under-5 (per 1,000 live births)  \\\n",
       "0                                             56.6   \n",
       "1                                             53.3   \n",
       "2                                             50.4   \n",
       "3                                             47.8   \n",
       "4                                             45.6   \n",
       "\n",
       "   Prevalence of underweight, weight for age (% of children under 5)  \\\n",
       "0                                              29.90                   \n",
       "1                                              23.62                   \n",
       "2                                              29.80                   \n",
       "3                                              26.30                   \n",
       "4                                              23.62                   \n",
       "\n",
       "   Immunization, measles (% of children ages 12-23 months)  \\\n",
       "0                                               85.0         \n",
       "1                                               83.0         \n",
       "2                                               81.0         \n",
       "3                                               78.0         \n",
       "4                                               75.0         \n",
       "\n",
       "   Prevalence of HIV, total (% of population ages 15-49)  \n",
       "0                                                0.1      \n",
       "1                                                0.1      \n",
       "2                                                0.1      \n",
       "3                                                0.1      \n",
       "4                                                0.1      "
      ]
     },
     "execution_count": 62,
     "metadata": {},
     "output_type": "execute_result"
    }
   ],
   "source": [
    "healthcare_data.head()"
   ]
  },
  {
   "cell_type": "code",
   "execution_count": 63,
   "metadata": {},
   "outputs": [
    {
     "data": {
      "text/html": [
       "<div>\n",
       "<style scoped>\n",
       "    .dataframe tbody tr th:only-of-type {\n",
       "        vertical-align: middle;\n",
       "    }\n",
       "\n",
       "    .dataframe tbody tr th {\n",
       "        vertical-align: top;\n",
       "    }\n",
       "\n",
       "    .dataframe thead th {\n",
       "        text-align: right;\n",
       "    }\n",
       "</style>\n",
       "<table border=\"1\" class=\"dataframe\">\n",
       "  <thead>\n",
       "    <tr style=\"text-align: right;\">\n",
       "      <th></th>\n",
       "      <th>Life expectancy at birth, total (years)</th>\n",
       "      <th>Fertility rate, total (births per woman)</th>\n",
       "      <th>Adolescent fertility rate (births per 1,000 women ages 15-19)</th>\n",
       "      <th>Contraceptive prevalence, any methods (% of women ages 15-49)</th>\n",
       "      <th>Births attended by skilled health staff (% of total)</th>\n",
       "      <th>Mortality rate, under-5 (per 1,000 live births)</th>\n",
       "      <th>Prevalence of underweight, weight for age (% of children under 5)</th>\n",
       "      <th>Immunization, measles (% of children ages 12-23 months)</th>\n",
       "      <th>Prevalence of HIV, total (% of population ages 15-49)</th>\n",
       "    </tr>\n",
       "  </thead>\n",
       "  <tbody>\n",
       "    <tr>\n",
       "      <th>count</th>\n",
       "      <td>31.000000</td>\n",
       "      <td>31.000000</td>\n",
       "      <td>31.000000</td>\n",
       "      <td>31.000000</td>\n",
       "      <td>31.000000</td>\n",
       "      <td>31.000000</td>\n",
       "      <td>31.000000</td>\n",
       "      <td>31.000000</td>\n",
       "      <td>31.000000</td>\n",
       "    </tr>\n",
       "    <tr>\n",
       "      <th>mean</th>\n",
       "      <td>69.183067</td>\n",
       "      <td>3.479000</td>\n",
       "      <td>53.364700</td>\n",
       "      <td>49.123529</td>\n",
       "      <td>64.066667</td>\n",
       "      <td>36.760000</td>\n",
       "      <td>23.620000</td>\n",
       "      <td>81.800000</td>\n",
       "      <td>0.103333</td>\n",
       "    </tr>\n",
       "    <tr>\n",
       "      <th>std</th>\n",
       "      <td>1.225703</td>\n",
       "      <td>0.528319</td>\n",
       "      <td>2.457991</td>\n",
       "      <td>2.331885</td>\n",
       "      <td>5.281666</td>\n",
       "      <td>7.601254</td>\n",
       "      <td>2.416995</td>\n",
       "      <td>6.901208</td>\n",
       "      <td>0.017951</td>\n",
       "    </tr>\n",
       "    <tr>\n",
       "      <th>min</th>\n",
       "      <td>66.366000</td>\n",
       "      <td>2.526000</td>\n",
       "      <td>49.062000</td>\n",
       "      <td>40.000000</td>\n",
       "      <td>52.800000</td>\n",
       "      <td>27.300000</td>\n",
       "      <td>19.100000</td>\n",
       "      <td>67.000000</td>\n",
       "      <td>0.100000</td>\n",
       "    </tr>\n",
       "    <tr>\n",
       "      <th>25%</th>\n",
       "      <td>68.624500</td>\n",
       "      <td>3.088000</td>\n",
       "      <td>50.894400</td>\n",
       "      <td>49.011765</td>\n",
       "      <td>64.066667</td>\n",
       "      <td>31.150000</td>\n",
       "      <td>23.620000</td>\n",
       "      <td>78.500000</td>\n",
       "      <td>0.100000</td>\n",
       "    </tr>\n",
       "    <tr>\n",
       "      <th>50%</th>\n",
       "      <td>69.112000</td>\n",
       "      <td>3.504000</td>\n",
       "      <td>54.154000</td>\n",
       "      <td>49.123529</td>\n",
       "      <td>64.066667</td>\n",
       "      <td>34.900000</td>\n",
       "      <td>23.620000</td>\n",
       "      <td>81.000000</td>\n",
       "      <td>0.100000</td>\n",
       "    </tr>\n",
       "    <tr>\n",
       "      <th>75%</th>\n",
       "      <td>70.066500</td>\n",
       "      <td>3.904000</td>\n",
       "      <td>55.242900</td>\n",
       "      <td>49.300000</td>\n",
       "      <td>64.066667</td>\n",
       "      <td>40.000000</td>\n",
       "      <td>23.620000</td>\n",
       "      <td>87.000000</td>\n",
       "      <td>0.100000</td>\n",
       "    </tr>\n",
       "    <tr>\n",
       "      <th>max</th>\n",
       "      <td>71.231000</td>\n",
       "      <td>4.320000</td>\n",
       "      <td>57.279000</td>\n",
       "      <td>55.100000</td>\n",
       "      <td>84.400000</td>\n",
       "      <td>56.600000</td>\n",
       "      <td>29.900000</td>\n",
       "      <td>92.000000</td>\n",
       "      <td>0.200000</td>\n",
       "    </tr>\n",
       "  </tbody>\n",
       "</table>\n",
       "</div>"
      ],
      "text/plain": [
       "       Life expectancy at birth, total (years)  \\\n",
       "count                                31.000000   \n",
       "mean                                 69.183067   \n",
       "std                                   1.225703   \n",
       "min                                  66.366000   \n",
       "25%                                  68.624500   \n",
       "50%                                  69.112000   \n",
       "75%                                  70.066500   \n",
       "max                                  71.231000   \n",
       "\n",
       "       Fertility rate, total (births per woman)  \\\n",
       "count                                 31.000000   \n",
       "mean                                   3.479000   \n",
       "std                                    0.528319   \n",
       "min                                    2.526000   \n",
       "25%                                    3.088000   \n",
       "50%                                    3.504000   \n",
       "75%                                    3.904000   \n",
       "max                                    4.320000   \n",
       "\n",
       "       Adolescent fertility rate (births per 1,000 women ages 15-19)  \\\n",
       "count                                          31.000000               \n",
       "mean                                           53.364700               \n",
       "std                                             2.457991               \n",
       "min                                            49.062000               \n",
       "25%                                            50.894400               \n",
       "50%                                            54.154000               \n",
       "75%                                            55.242900               \n",
       "max                                            57.279000               \n",
       "\n",
       "       Contraceptive prevalence, any methods (% of women ages 15-49)  \\\n",
       "count                                          31.000000               \n",
       "mean                                           49.123529               \n",
       "std                                             2.331885               \n",
       "min                                            40.000000               \n",
       "25%                                            49.011765               \n",
       "50%                                            49.123529               \n",
       "75%                                            49.300000               \n",
       "max                                            55.100000               \n",
       "\n",
       "       Births attended by skilled health staff (% of total)  \\\n",
       "count                                          31.000000      \n",
       "mean                                           64.066667      \n",
       "std                                             5.281666      \n",
       "min                                            52.800000      \n",
       "25%                                            64.066667      \n",
       "50%                                            64.066667      \n",
       "75%                                            64.066667      \n",
       "max                                            84.400000      \n",
       "\n",
       "       Mortality rate, under-5 (per 1,000 live births)  \\\n",
       "count                                        31.000000   \n",
       "mean                                         36.760000   \n",
       "std                                           7.601254   \n",
       "min                                          27.300000   \n",
       "25%                                          31.150000   \n",
       "50%                                          34.900000   \n",
       "75%                                          40.000000   \n",
       "max                                          56.600000   \n",
       "\n",
       "       Prevalence of underweight, weight for age (% of children under 5)  \\\n",
       "count                                          31.000000                   \n",
       "mean                                           23.620000                   \n",
       "std                                             2.416995                   \n",
       "min                                            19.100000                   \n",
       "25%                                            23.620000                   \n",
       "50%                                            23.620000                   \n",
       "75%                                            23.620000                   \n",
       "max                                            29.900000                   \n",
       "\n",
       "       Immunization, measles (% of children ages 12-23 months)  \\\n",
       "count                                          31.000000         \n",
       "mean                                           81.800000         \n",
       "std                                             6.901208         \n",
       "min                                            67.000000         \n",
       "25%                                            78.500000         \n",
       "50%                                            81.000000         \n",
       "75%                                            87.000000         \n",
       "max                                            92.000000         \n",
       "\n",
       "       Prevalence of HIV, total (% of population ages 15-49)  \n",
       "count                                          31.000000      \n",
       "mean                                            0.103333      \n",
       "std                                             0.017951      \n",
       "min                                             0.100000      \n",
       "25%                                             0.100000      \n",
       "50%                                             0.100000      \n",
       "75%                                             0.100000      \n",
       "max                                             0.200000      "
      ]
     },
     "execution_count": 63,
     "metadata": {},
     "output_type": "execute_result"
    }
   ],
   "source": [
    "healthcare_data.describe()"
   ]
  },
  {
   "cell_type": "code",
   "execution_count": 64,
   "metadata": {},
   "outputs": [
    {
     "data": {
      "text/plain": [
       "<matplotlib.legend.Legend at 0x7f1b6a3100d0>"
      ]
     },
     "execution_count": 64,
     "metadata": {},
     "output_type": "execute_result"
    },
    {
     "data": {
      "image/png": "[encoded data removed]",
      "text/plain": [
       "<Figure size 432x288 with 1 Axes>"
      ]
     },
     "metadata": {
      "needs_background": "light"
     },
     "output_type": "display_data"
    }
   ],
   "source": [
    "plt.plot(healthcare_data)\n",
    "plt.xlabel(\"Years\")\n",
    "plt.ylabel(\"Healthcare Indicators\")\n",
    "plt.legend([f\"{indicator[:7]}...\" for indicator in healthcare_indicators], loc=\"upper left\")"
   ]
  },
  {
   "cell_type": "code",
   "execution_count": 65,
   "metadata": {},
   "outputs": [
    {
     "name": "stdout",
     "output_type": "stream",
     "text": [
      "                          Life expectancy at birth, total (years) (mean) : 69.18306666666665\n",
      "                         Fertility rate, total (births per woman) (mean) : 3.479\n",
      "    Adolescent fertility rate (births per 1,000 women ages 15-19) (mean) : 53.3647\n",
      "    Contraceptive prevalence, any methods (% of women ages 15-49) (mean) : 49.12352941176468\n",
      "             Births attended by skilled health staff (% of total) (mean) : 64.06666666666665\n",
      "                  Mortality rate, under-5 (per 1,000 live births) (mean) : 36.76\n",
      "Prevalence of underweight, weight for age (% of children under 5) (mean) : 23.62\n",
      "          Immunization, measles (% of children ages 12-23 months) (mean) : 81.80000000000001\n",
      "            Prevalence of HIV, total (% of population ages 15-49) (mean) : 0.10333333333333337\n"
     ]
    }
   ],
   "source": [
    "for column in healthcare_indicators:\n",
    "    print(f\"{column.rjust(65)} (mean) : {data[column].mean()}\")"
   ]
  },
  {
   "cell_type": "code",
   "execution_count": 66,
   "metadata": {},
   "outputs": [
    {
     "name": "stdout",
     "output_type": "stream",
     "text": [
      "                          Life expectancy at birth, total (years) (variance) : 1.5023481288888867\n",
      "                         Fertility rate, total (births per woman) (variance) : 0.27912073333333337\n",
      "    Adolescent fertility rate (births per 1,000 women ages 15-19) (variance) : 6.041718476666672\n",
      "    Contraceptive prevalence, any methods (% of women ages 15-49) (variance) : 5.437686274509806\n",
      "             Births attended by skilled health staff (% of total) (variance) : 27.89600000000001\n",
      "                  Mortality rate, under-5 (per 1,000 live births) (variance) : 57.77906666666666\n",
      "Prevalence of underweight, weight for age (% of children under 5) (variance) : 5.841866666666666\n",
      "          Immunization, measles (% of children ages 12-23 months) (variance) : 47.626666666666665\n",
      "            Prevalence of HIV, total (% of population ages 15-49) (variance) : 0.0003222222222222222\n"
     ]
    }
   ],
   "source": [
    "for column in healthcare_indicators:\n",
    "    print(f\"{column.rjust(65)} (variance) : {data[column].var()}\")"
   ]
  },
  {
   "cell_type": "code",
   "execution_count": 67,
   "metadata": {},
   "outputs": [
    {
     "data": {
      "text/plain": [
       "Ttest_indResult(statistic=5.253925048995313, pvalue=8.563424418763825e-06)"
      ]
     },
     "execution_count": 67,
     "metadata": {},
     "output_type": "execute_result"
    }
   ],
   "source": [
    "result = st.ttest_ind(healthcare_data[\"Life expectancy at birth, total (years)\"], healthcare_data[\"Births attended by skilled health staff (% of total)\"], equal_var=False)\n",
    "result"
   ]
  },
  {
   "cell_type": "code",
   "execution_count": 68,
   "metadata": {},
   "outputs": [
    {
     "data": {
      "text/plain": [
       "False"
      ]
     },
     "execution_count": 68,
     "metadata": {},
     "output_type": "execute_result"
    }
   ],
   "source": [
    "result.pvalue >= 0.05"
   ]
  },
  {
   "cell_type": "code",
   "execution_count": 69,
   "metadata": {},
   "outputs": [
    {
     "data": {
      "text/plain": [
       "F_onewayResult(statistic=27.603728420460442, pvalue=2.0729109849706842e-06)"
      ]
     },
     "execution_count": 69,
     "metadata": {},
     "output_type": "execute_result"
    }
   ],
   "source": [
    "result = st.f_oneway(healthcare_data[\"Life expectancy at birth, total (years)\"], healthcare_data[\"Births attended by skilled health staff (% of total)\"])\n",
    "result"
   ]
  },
  {
   "cell_type": "code",
   "execution_count": 70,
   "metadata": {},
   "outputs": [
    {
     "data": {
      "text/plain": [
       "False"
      ]
     },
     "execution_count": 70,
     "metadata": {},
     "output_type": "execute_result"
    }
   ],
   "source": [
    "result.pvalue >= 0.05"
   ]
  },
  {
   "cell_type": "code",
   "execution_count": 71,
   "metadata": {},
   "outputs": [],
   "source": [
    "education_indicators = [\n",
    "    \"Primary completion rate, total (% of relevant age group)\",\n",
    "    \"School enrollment, secondary (% gross)\",\n",
    "    \"School enrollment, primary and secondary (gross), gender parity index (GPI)\"\n",
    "]\n",
    "\n",
    "education_data = data[education_indicators]"
   ]
  },
  {
   "cell_type": "code",
   "execution_count": 72,
   "metadata": {},
   "outputs": [
    {
     "data": {
      "text/html": [
       "<div>\n",
       "<style scoped>\n",
       "    .dataframe tbody tr th:only-of-type {\n",
       "        vertical-align: middle;\n",
       "    }\n",
       "\n",
       "    .dataframe tbody tr th {\n",
       "        vertical-align: top;\n",
       "    }\n",
       "\n",
       "    .dataframe thead th {\n",
       "        text-align: right;\n",
       "    }\n",
       "</style>\n",
       "<table border=\"1\" class=\"dataframe\">\n",
       "  <thead>\n",
       "    <tr style=\"text-align: right;\">\n",
       "      <th></th>\n",
       "      <th>Primary completion rate, total (% of relevant age group)</th>\n",
       "      <th>School enrollment, secondary (% gross)</th>\n",
       "      <th>School enrollment, primary and secondary (gross), gender parity index (GPI)</th>\n",
       "    </tr>\n",
       "  </thead>\n",
       "  <tbody>\n",
       "    <tr>\n",
       "      <th>0</th>\n",
       "      <td>89.340302</td>\n",
       "      <td>72.013771</td>\n",
       "      <td>0.997690</td>\n",
       "    </tr>\n",
       "    <tr>\n",
       "      <th>1</th>\n",
       "      <td>95.046961</td>\n",
       "      <td>71.570679</td>\n",
       "      <td>1.020861</td>\n",
       "    </tr>\n",
       "    <tr>\n",
       "      <th>2</th>\n",
       "      <td>95.046961</td>\n",
       "      <td>73.000168</td>\n",
       "      <td>1.020861</td>\n",
       "    </tr>\n",
       "    <tr>\n",
       "      <th>3</th>\n",
       "      <td>95.046961</td>\n",
       "      <td>74.971542</td>\n",
       "      <td>1.020861</td>\n",
       "    </tr>\n",
       "    <tr>\n",
       "      <th>4</th>\n",
       "      <td>95.046961</td>\n",
       "      <td>76.089981</td>\n",
       "      <td>1.020861</td>\n",
       "    </tr>\n",
       "  </tbody>\n",
       "</table>\n",
       "</div>"
      ],
      "text/plain": [
       "   Primary completion rate, total (% of relevant age group)  \\\n",
       "0                                          89.340302          \n",
       "1                                          95.046961          \n",
       "2                                          95.046961          \n",
       "3                                          95.046961          \n",
       "4                                          95.046961          \n",
       "\n",
       "   School enrollment, secondary (% gross)  \\\n",
       "0                               72.013771   \n",
       "1                               71.570679   \n",
       "2                               73.000168   \n",
       "3                               74.971542   \n",
       "4                               76.089981   \n",
       "\n",
       "   School enrollment, primary and secondary (gross), gender parity index (GPI)  \n",
       "0                                           0.997690                            \n",
       "1                                           1.020861                            \n",
       "2                                           1.020861                            \n",
       "3                                           1.020861                            \n",
       "4                                           1.020861                            "
      ]
     },
     "execution_count": 72,
     "metadata": {},
     "output_type": "execute_result"
    }
   ],
   "source": [
    "education_data.head()"
   ]
  },
  {
   "cell_type": "code",
   "execution_count": 73,
   "metadata": {},
   "outputs": [
    {
     "data": {
      "text/html": [
       "<div>\n",
       "<style scoped>\n",
       "    .dataframe tbody tr th:only-of-type {\n",
       "        vertical-align: middle;\n",
       "    }\n",
       "\n",
       "    .dataframe tbody tr th {\n",
       "        vertical-align: top;\n",
       "    }\n",
       "\n",
       "    .dataframe thead th {\n",
       "        text-align: right;\n",
       "    }\n",
       "</style>\n",
       "<table border=\"1\" class=\"dataframe\">\n",
       "  <thead>\n",
       "    <tr style=\"text-align: right;\">\n",
       "      <th></th>\n",
       "      <th>Primary completion rate, total (% of relevant age group)</th>\n",
       "      <th>School enrollment, secondary (% gross)</th>\n",
       "      <th>School enrollment, primary and secondary (gross), gender parity index (GPI)</th>\n",
       "    </tr>\n",
       "  </thead>\n",
       "  <tbody>\n",
       "    <tr>\n",
       "      <th>count</th>\n",
       "      <td>31.000000</td>\n",
       "      <td>31.000000</td>\n",
       "      <td>31.000000</td>\n",
       "    </tr>\n",
       "    <tr>\n",
       "      <th>mean</th>\n",
       "      <td>95.046961</td>\n",
       "      <td>79.590761</td>\n",
       "      <td>1.020861</td>\n",
       "    </tr>\n",
       "    <tr>\n",
       "      <th>std</th>\n",
       "      <td>5.525388</td>\n",
       "      <td>4.560205</td>\n",
       "      <td>0.006626</td>\n",
       "    </tr>\n",
       "    <tr>\n",
       "      <th>min</th>\n",
       "      <td>84.703331</td>\n",
       "      <td>71.570679</td>\n",
       "      <td>0.997690</td>\n",
       "    </tr>\n",
       "    <tr>\n",
       "      <th>25%</th>\n",
       "      <td>93.634212</td>\n",
       "      <td>76.096081</td>\n",
       "      <td>1.020861</td>\n",
       "    </tr>\n",
       "    <tr>\n",
       "      <th>50%</th>\n",
       "      <td>95.046961</td>\n",
       "      <td>79.590761</td>\n",
       "      <td>1.020861</td>\n",
       "    </tr>\n",
       "    <tr>\n",
       "      <th>75%</th>\n",
       "      <td>95.046961</td>\n",
       "      <td>82.433990</td>\n",
       "      <td>1.024415</td>\n",
       "    </tr>\n",
       "    <tr>\n",
       "      <th>max</th>\n",
       "      <td>115.436897</td>\n",
       "      <td>88.455811</td>\n",
       "      <td>1.030310</td>\n",
       "    </tr>\n",
       "  </tbody>\n",
       "</table>\n",
       "</div>"
      ],
      "text/plain": [
       "       Primary completion rate, total (% of relevant age group)  \\\n",
       "count                                          31.000000          \n",
       "mean                                           95.046961          \n",
       "std                                             5.525388          \n",
       "min                                            84.703331          \n",
       "25%                                            93.634212          \n",
       "50%                                            95.046961          \n",
       "75%                                            95.046961          \n",
       "max                                           115.436897          \n",
       "\n",
       "       School enrollment, secondary (% gross)  \\\n",
       "count                               31.000000   \n",
       "mean                                79.590761   \n",
       "std                                  4.560205   \n",
       "min                                 71.570679   \n",
       "25%                                 76.096081   \n",
       "50%                                 79.590761   \n",
       "75%                                 82.433990   \n",
       "max                                 88.455811   \n",
       "\n",
       "       School enrollment, primary and secondary (gross), gender parity index (GPI)  \n",
       "count                                          31.000000                            \n",
       "mean                                            1.020861                            \n",
       "std                                             0.006626                            \n",
       "min                                             0.997690                            \n",
       "25%                                             1.020861                            \n",
       "50%                                             1.020861                            \n",
       "75%                                             1.024415                            \n",
       "max                                             1.030310                            "
      ]
     },
     "execution_count": 73,
     "metadata": {},
     "output_type": "execute_result"
    }
   ],
   "source": [
    "education_data.describe()"
   ]
  },
  {
   "cell_type": "code",
   "execution_count": 74,
   "metadata": {},
   "outputs": [
    {
     "data": {
      "text/plain": [
       "<matplotlib.legend.Legend at 0x7f1b6b1b8ee0>"
      ]
     },
     "execution_count": 74,
     "metadata": {},
     "output_type": "execute_result"
    },
    {
     "data": {
      "image/png": "[encoded data removed]",
      "text/plain": [
       "<Figure size 432x288 with 1 Axes>"
      ]
     },
     "metadata": {
      "needs_background": "light"
     },
     "output_type": "display_data"
    }
   ],
   "source": [
    "plt.plot(education_data)\n",
    "plt.xlabel(\"Years\")\n",
    "plt.ylabel(\"Education Indicators\")\n",
    "plt.legend([f\"{indicator[:5]}...{indicator[-5:]}\" for indicator in education_indicators], loc=\"lower left\")"
   ]
  }
 ],
 "metadata": {
  "interpreter": {
   "hash": "b8b464b2a0f4680f3eefdd5297fe33e653b3f0e61e6a67e34a202487c12e566f"
  },
  "kernelspec": {
   "display_name": "Python 3.9.7 64-bit ('data-science-practice': conda)",
   "name": "python3"
  },
  "language_info": {
   "codemirror_mode": {
    "name": "ipython",
    "version": 3
   },
   "file_extension": ".py",
   "mimetype": "text/x-python",
   "name": "python",
   "nbconvert_exporter": "python",
   "pygments_lexer": "ipython3",
   "version": "3.9.7"
  },
  "orig_nbformat": 4
 },
 "nbformat": 4,
 "nbformat_minor": 2
}
